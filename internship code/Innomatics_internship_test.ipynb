{
 "cells": [
  {
   "cell_type": "markdown",
   "metadata": {},
   "source": [
    "# Internship test on movie recommendation system"
   ]
  },
  {
   "cell_type": "code",
   "execution_count": 1,
   "metadata": {},
   "outputs": [],
   "source": [
    "import numpy as np \n",
    "import pandas as pd\n",
    "import matplotlib.pyplot as plt"
   ]
  },
  {
   "cell_type": "code",
   "execution_count": 2,
   "metadata": {},
   "outputs": [],
   "source": [
    "movie_df = pd.read_csv(\"P:\\Artificial Intelligence\\internship code\\datasets\\movie data\\movies.csv\")"
   ]
  },
  {
   "cell_type": "code",
   "execution_count": 3,
   "metadata": {},
   "outputs": [
    {
     "data": {
      "text/plain": [
       "(9742, 3)"
      ]
     },
     "execution_count": 3,
     "metadata": {},
     "output_type": "execute_result"
    }
   ],
   "source": [
    "movie_df.shape     # To find shape of movies.csv"
   ]
  },
  {
   "cell_type": "code",
   "execution_count": 4,
   "metadata": {},
   "outputs": [],
   "source": [
    "rating_df = pd.read_csv(\"P:\\Artificial Intelligence\\internship code\\datasets\\movie data\\\\ratings.csv\")"
   ]
  },
  {
   "cell_type": "code",
   "execution_count": 5,
   "metadata": {},
   "outputs": [
    {
     "data": {
      "text/plain": [
       "(100836, 4)"
      ]
     },
     "execution_count": 5,
     "metadata": {},
     "output_type": "execute_result"
    }
   ],
   "source": [
    "rating_df.shape   # To find shape of ratings.csv"
   ]
  },
  {
   "cell_type": "code",
   "execution_count": 6,
   "metadata": {},
   "outputs": [
    {
     "name": "stdout",
     "output_type": "stream",
     "text": [
      "[  1   2   3   4   5   6   7   8   9  10  11  12  13  14  15  16  17  18\n",
      "  19  20  21  22  23  24  25  26  27  28  29  30  31  32  33  34  35  36\n",
      "  37  38  39  40  41  42  43  44  45  46  47  48  49  50  51  52  53  54\n",
      "  55  56  57  58  59  60  61  62  63  64  65  66  67  68  69  70  71  72\n",
      "  73  74  75  76  77  78  79  80  81  82  83  84  85  86  87  88  89  90\n",
      "  91  92  93  94  95  96  97  98  99 100 101 102 103 104 105 106 107 108\n",
      " 109 110 111 112 113 114 115 116 117 118 119 120 121 122 123 124 125 126\n",
      " 127 128 129 130 131 132 133 134 135 136 137 138 139 140 141 142 143 144\n",
      " 145 146 147 148 149 150 151 152 153 154 155 156 157 158 159 160 161 162\n",
      " 163 164 165 166 167 168 169 170 171 172 173 174 175 176 177 178 179 180\n",
      " 181 182 183 184 185 186 187 188 189 190 191 192 193 194 195 196 197 198\n",
      " 199 200 201 202 203 204 205 206 207 208 209 210 211 212 213 214 215 216\n",
      " 217 218 219 220 221 222 223 224 225 226 227 228 229 230 231 232 233 234\n",
      " 235 236 237 238 239 240 241 242 243 244 245 246 247 248 249 250 251 252\n",
      " 253 254 255 256 257 258 259 260 261 262 263 264 265 266 267 268 269 270\n",
      " 271 272 273 274 275 276 277 278 279 280 281 282 283 284 285 286 287 288\n",
      " 289 290 291 292 293 294 295 296 297 298 299 300 301 302 303 304 305 306\n",
      " 307 308 309 310 311 312 313 314 315 316 317 318 319 320 321 322 323 324\n",
      " 325 326 327 328 329 330 331 332 333 334 335 336 337 338 339 340 341 342\n",
      " 343 344 345 346 347 348 349 350 351 352 353 354 355 356 357 358 359 360\n",
      " 361 362 363 364 365 366 367 368 369 370 371 372 373 374 375 376 377 378\n",
      " 379 380 381 382 383 384 385 386 387 388 389 390 391 392 393 394 395 396\n",
      " 397 398 399 400 401 402 403 404 405 406 407 408 409 410 411 412 413 414\n",
      " 415 416 417 418 419 420 421 422 423 424 425 426 427 428 429 430 431 432\n",
      " 433 434 435 436 437 438 439 440 441 442 443 444 445 446 447 448 449 450\n",
      " 451 452 453 454 455 456 457 458 459 460 461 462 463 464 465 466 467 468\n",
      " 469 470 471 472 473 474 475 476 477 478 479 480 481 482 483 484 485 486\n",
      " 487 488 489 490 491 492 493 494 495 496 497 498 499 500 501 502 503 504\n",
      " 505 506 507 508 509 510 511 512 513 514 515 516 517 518 519 520 521 522\n",
      " 523 524 525 526 527 528 529 530 531 532 533 534 535 536 537 538 539 540\n",
      " 541 542 543 544 545 546 547 548 549 550 551 552 553 554 555 556 557 558\n",
      " 559 560 561 562 563 564 565 566 567 568 569 570 571 572 573 574 575 576\n",
      " 577 578 579 580 581 582 583 584 585 586 587 588 589 590 591 592 593 594\n",
      " 595 596 597 598 599 600 601 602 603 604 605 606 607 608 609 610]\n"
     ]
    }
   ],
   "source": [
    "# To access unique user IDs\n",
    "unique_user_ids = rating_df['userId'].unique()\n",
    "print(unique_user_ids)"
   ]
  },
  {
   "cell_type": "code",
   "execution_count": 7,
   "metadata": {},
   "outputs": [
    {
     "name": "stdout",
     "output_type": "stream",
     "text": [
      "Forrest Gump (1994)\n"
     ]
    }
   ],
   "source": [
    "# To find maximum number of user rating\n",
    "movie_ratings_count = rating_df.groupby('movieId').size().reset_index(name='rating_count')\n",
    "max_rated_movie = movie_ratings_count[movie_ratings_count['rating_count'] == movie_ratings_count['rating_count'].max()]\n",
    "max_rated_movie_id = max_rated_movie['movieId'].values[0]\n",
    "max_rated_movie_title = movie_df[movie_df['movieId'] == max_rated_movie_id]['title'].values[0]\n",
    "print(max_rated_movie_title)"
   ]
  },
  {
   "cell_type": "code",
   "execution_count": 11,
   "metadata": {},
   "outputs": [
    {
     "name": "stdout",
     "output_type": "stream",
     "text": [
      "Correct tags for 'Matrix, The (1999)':\n",
      "['martial arts' 'sci-fi' 'alternate universe' 'philosophy'\n",
      " 'post apocalyptic']\n"
     ]
    }
   ],
   "source": [
    "# To find correct tags submitted by users to \"Matrix, The (1999)\n",
    "\n",
    "movie_title = \"Matrix, The (1999)\"\n",
    "movie_ids = movie_df[movie_df['title'].str.extract(movie_title)]['movieId']\n",
    "tags_df = pd.read_csv(\"P:\\Artificial Intelligence\\internship code\\datasets\\movie data\\\\tags.csv\")\n",
    "matrix_movie_id = movie_ids\n",
    "matrix_tags = tags_df[(tags_df['movieId'] == matrix_movie_id)]\n",
    "correct_tags = matrix_tags['tag'].unique()\n",
    "print(\"Correct tags for 'Matrix, The (1999)':\")\n",
    "print(correct_tags)"
   ]
  },
  {
   "cell_type": "code",
   "execution_count": 13,
   "metadata": {},
   "outputs": [
    {
     "name": "stdout",
     "output_type": "stream",
     "text": [
      "3.970982142857143\n"
     ]
    }
   ],
   "source": [
    "# To find average rating\n",
    "\n",
    "movie_title = \"Terminator 2: Judgment Day (1991)\"\n",
    "movie_id = movie_df[movie_df['title'] == movie_title]['movieId'].values[0]\n",
    "average_rating = rating_df[rating_df['movieId'] == movie_id]['rating'].mean()\n",
    "print(average_rating)"
   ]
  },
  {
   "cell_type": "code",
   "execution_count": 14,
   "metadata": {},
   "outputs": [
    {
     "data": {
      "image/png": "[encoded data removed]",
      "text/plain": [
       "<Figure size 576x432 with 1 Axes>"
      ]
     },
     "metadata": {
      "needs_background": "light"
     },
     "output_type": "display_data"
    }
   ],
   "source": [
    "# To find data distribution of user ratings\n",
    "\n",
    "movie_title = \"Fight Club (1999)\"\n",
    "movie_id = movie_df[movie_df['title'] == movie_title]['movieId'].values[0]\n",
    "fight_club_ratings = rating_df[rating_df['movieId'] == movie_id]['rating']\n",
    "\n",
    "plt.figure(figsize=(8, 6))\n",
    "plt.hist(fight_club_ratings, bins=10, color='skyblue', edgecolor='black')\n",
    "plt.title(movie_title)\n",
    "plt.xlabel('Rating')\n",
    "plt.ylabel('Frequency')\n",
    "plt.grid(axis='y', alpha=0.5)\n",
    "plt.show()"
   ]
  },
  {
   "cell_type": "code",
   "execution_count": 16,
   "metadata": {},
   "outputs": [
    {
     "data": {
      "text/html": [
       "<div>\n",
       "<style scoped>\n",
       "    .dataframe tbody tr th:only-of-type {\n",
       "        vertical-align: middle;\n",
       "    }\n",
       "\n",
       "    .dataframe tbody tr th {\n",
       "        vertical-align: top;\n",
       "    }\n",
       "\n",
       "    .dataframe thead th {\n",
       "        text-align: right;\n",
       "    }\n",
       "</style>\n",
       "<table border=\"1\" class=\"dataframe\">\n",
       "  <thead>\n",
       "    <tr style=\"text-align: right;\">\n",
       "      <th></th>\n",
       "      <th>movieId</th>\n",
       "      <th>title</th>\n",
       "      <th>genres</th>\n",
       "      <th>rating_count</th>\n",
       "      <th>rating_mean</th>\n",
       "    </tr>\n",
       "  </thead>\n",
       "  <tbody>\n",
       "    <tr>\n",
       "      <th>0</th>\n",
       "      <td>1</td>\n",
       "      <td>Toy Story (1995)</td>\n",
       "      <td>Adventure|Animation|Children|Comedy|Fantasy</td>\n",
       "      <td>215</td>\n",
       "      <td>3.920930</td>\n",
       "    </tr>\n",
       "    <tr>\n",
       "      <th>1</th>\n",
       "      <td>2</td>\n",
       "      <td>Jumanji (1995)</td>\n",
       "      <td>Adventure|Children|Fantasy</td>\n",
       "      <td>110</td>\n",
       "      <td>3.431818</td>\n",
       "    </tr>\n",
       "    <tr>\n",
       "      <th>2</th>\n",
       "      <td>3</td>\n",
       "      <td>Grumpier Old Men (1995)</td>\n",
       "      <td>Comedy|Romance</td>\n",
       "      <td>52</td>\n",
       "      <td>3.259615</td>\n",
       "    </tr>\n",
       "    <tr>\n",
       "      <th>5</th>\n",
       "      <td>6</td>\n",
       "      <td>Heat (1995)</td>\n",
       "      <td>Action|Crime|Thriller</td>\n",
       "      <td>102</td>\n",
       "      <td>3.946078</td>\n",
       "    </tr>\n",
       "    <tr>\n",
       "      <th>6</th>\n",
       "      <td>7</td>\n",
       "      <td>Sabrina (1995)</td>\n",
       "      <td>Comedy|Romance</td>\n",
       "      <td>54</td>\n",
       "      <td>3.185185</td>\n",
       "    </tr>\n",
       "  </tbody>\n",
       "</table>\n",
       "</div>"
      ],
      "text/plain": [
       "   movieId                    title  \\\n",
       "0        1         Toy Story (1995)   \n",
       "1        2           Jumanji (1995)   \n",
       "2        3  Grumpier Old Men (1995)   \n",
       "5        6              Heat (1995)   \n",
       "6        7           Sabrina (1995)   \n",
       "\n",
       "                                        genres  rating_count  rating_mean  \n",
       "0  Adventure|Animation|Children|Comedy|Fantasy           215     3.920930  \n",
       "1                   Adventure|Children|Fantasy           110     3.431818  \n",
       "2                               Comedy|Romance            52     3.259615  \n",
       "5                        Action|Crime|Thriller           102     3.946078  \n",
       "6                               Comedy|Romance            54     3.185185  "
      ]
     },
     "execution_count": 16,
     "metadata": {},
     "output_type": "execute_result"
    }
   ],
   "source": [
    "# Mandatary Operations\n",
    "\n",
    "# 1. Group the user ratings based on movieId and apply aggregation operations like count and mean on ratings.\n",
    "grouped_ratings = rating_df.groupby('movieId')['rating'].agg(['count', 'mean']).reset_index()\n",
    "grouped_ratings.columns = ['movieId', 'rating_count', 'rating_mean']\n",
    "\n",
    "# 2. Apply inner join on dataframe created from movies.csv and the grouped df from step 1.\n",
    "merged_data = pd.merge(movie_df, grouped_ratings, on='movieId', how='inner')\n",
    "\n",
    "# 3. Filter only those movies which have more than 50 user ratings (i.e. > 50).\n",
    "filtered_movies = merged_data[merged_data['rating_count'] > 50]\n",
    "\n",
    "filtered_movies.head()"
   ]
  },
  {
   "cell_type": "code",
   "execution_count": 17,
   "metadata": {},
   "outputs": [
    {
     "name": "stdout",
     "output_type": "stream",
     "text": [
      "The most popular movie based on average user ratings is Shawshank Redemption, The (1994)\n",
      "Average user rating 4.429022082018927\n"
     ]
    }
   ],
   "source": [
    "# To find the movie with the highest average user rating\n",
    "most_popular_movie = filtered_movies.loc[filtered_movies['rating_mean'].idxmax()]\n",
    "print(\"The most popular movie based on average user ratings is\", most_popular_movie['title'])\n",
    "print(\"Average user rating\", most_popular_movie['rating_mean'])"
   ]
  },
  {
   "cell_type": "code",
   "execution_count": 18,
   "metadata": {},
   "outputs": [
    {
     "name": "stdout",
     "output_type": "stream",
     "text": [
      "Top 5 popular movies based on number of user ratings:\n",
      "                                 title  rating_count\n",
      "314                Forrest Gump (1994)           329\n",
      "277   Shawshank Redemption, The (1994)           317\n",
      "257                Pulp Fiction (1994)           307\n",
      "510   Silence of the Lambs, The (1991)           279\n",
      "1938                Matrix, The (1999)           278\n"
     ]
    }
   ],
   "source": [
    "# To Select the top 5 movies based on rating count\n",
    "sorted_movies_by_rating_count = filtered_movies.sort_values('rating_count', ascending=False)\n",
    "top_5_popular_movies = sorted_movies_by_rating_count.head(5)\n",
    "print(\"Top 5 popular movies based on number of user ratings:\")\n",
    "print(top_5_popular_movies[['title', 'rating_count']])"
   ]
  },
  {
   "cell_type": "code",
   "execution_count": 19,
   "metadata": {},
   "outputs": [
    {
     "name": "stdout",
     "output_type": "stream",
     "text": [
      "Jurassic Park (1993)\n"
     ]
    }
   ],
   "source": [
    "# To find third most popular sci fi movie\n",
    "\n",
    "sci_fi_movies = filtered_movies[filtered_movies['genres'].str.contains('Sci-Fi', case=False)]\n",
    "sorted_sci_fi_movies = sci_fi_movies.sort_values('rating_count', ascending=False)\n",
    "third_most_popular_sci_fi_movie = sorted_sci_fi_movies.iloc[2]\n",
    "print(third_most_popular_sci_fi_movie['title'])"
   ]
  },
  {
   "cell_type": "code",
   "execution_count": 27,
   "metadata": {},
   "outputs": [
    {
     "name": "stdout",
     "output_type": "stream",
     "text": [
      "\n",
      "Slumdog Millionaire (2008) 1010048\n",
      "Danny Boyle has come up with some interesting cinema, certainly defining himself as someone above average. What he achieves in \"Slumdog Millionaire\" is transcend the line between inspiration and a miracle, awakening an emotional connection to the very special element great cinema can deliver. The packages might have changed, and the contents are more controversial and maybe a bit more tied to reality, certainly taking us to an exotic local, teaching us that our world extends beyond our freeway and limited perception of how more than the other half of the world's population has to deal without certainly preaching to us.The tale of two brothers' lives is told to us through episodic flashbacks tied to an episode of India's \"Who Wants to be a millionaire?\". At first, the story introduces one of the brothers as being the subject of a very strong interrogation to find out whether he is being truthful about some knowledge that might be relevant to the game. As he answers the questions, we discover that this young man's life story might be more interesting than we originally expected.There is an element of freshness in the way the story is presented, as we accompany Jamal through his life odyssey from a young child in the slums to a man who is determined to save those he loves. There are some strong emotions in the film, and Boyle's direction keeps the film dynamic and engaging.Prepare yourself to be overtaken by emotions as varied as joy, pity, happiness, anger, revulsion, surprise, and an exhilarating conclusion rarely seen in movies anymore. This film has made me grateful to be alive and that we still have people in cinema like Boyle who understands the power and beauty of the medium. He knows that the perfect mix of a great story and the respective imagery can provoke unforgettable memories in its audience.\n",
      "This film came to the UK on a wave of Oscar hype and critical praise and I was looking forward to see it even though the reasons \"why\" it was good seemed a bit vague to me. On one hand it seems to be set in the gritty poverty of India, with descriptions of some very unpleasant scenes but then, on the other hand it was described as being uplifting and the feel-good movie of the year. I was curious how this conflicting information resolves itself within one film without off-balancing it.The overall sweep of the film is very much a rag-to-riches story with love being the real heart of the film even if \"money\" (or a game-show for money) is the narrative driver and essentially it is modern day fairytale. In this regard it is an excellent film because you are engaged throughout, are totally on the side of the main characters and ultimately the viewer would give anything if they could only end the film happily. In this way it is uplifting and (ultimately) a really cheering film that is worth seeing with an audience because it is one of those things that unites an audience with a common feeling of cheer and goodwill. The method of delivery really helps the plot work because it is colourful, frantic and stylish.I really enjoyed the fragmented time structure that uses the re-watching of the Millionaire questions in the police station as a trigger for flashbacks. This means we are gripped by several threads/times rather than it being a straight flow. It is not an amazingly unique device but the manner of it being put together prevents it ever being clumsy or obvious by how it transitions from one time to the other. Speaking of delivery and style, the film is understandably an Oscar contender generally thanks to its upbeat nature (after darker material last year and the current downturn in the world, Oscar probably will look for some feel-good stuff) but the areas I think it stands a great chance are those of cinematography, editing and direction. I say this because visually the film is a treat. It captures the colour of India with great camera work that puts us right in the scene. An example is the early chase through the slum, with a frantic camera, plenty of colour (in terms of palate, places and people) and a great visual style with the sun hitting the camera from above as it moves and other effective devices. With this much movement in the camera throughout the film, the editing is key in making these scenes work and it is excellent throughout  even putting the subtitles in a stylish and arresting fashion which helped sell the use of Hindi but does also match the style of the film more than standard text would have. As director Boyle delivers on all this and his use of music is great as well. It does feel like we have the grit and style of City of God but yet also the warm uplifting story of the very best the \"underdog\" genre can provide.That it achieves this is a testament to how well the film is delivered because it does have to overcome the fact that the majority of the film presents us with a terrible world of poverty and suffering and then gradually pulls the main characters out of it. This is a problem that the delivery covers but ultimately the viewer is left with some fairly harrowing realities that haven't gone away by the end of the film. I totally understand those who love the film unquestioningly but I do agree with those that take pause on this issue and note that it is an aspect of the film that really doesn't stand up in the cold light of day. You see, it is gritty and it is unpleasant and, although not based on a true story, this is a reality in our world and to see so much of it in a film that ultimately leaves you feeling good about life and happy that everything worked out alright is not a mix that sat particularly well with me. It isn't helped by the dance number over the end credits, which involved lots of people and pushed the \"isn't everything great\" idea more than the proper conclusion of the story did. I didn't like this part of the credits for this reason and also it would have been nice to see a film based in India that didn't feel it had to \"do\" Bollywood.The cast mostly play to the \"fairytale\" side of the film more than the grit, although the young children are very impressive in the first sections of the story. Patel took a minute to grow on me but, although not the most charismatic of performers, he is really steady as the underdog who is driven. Kapoor is a great villain, driven by a hate that says a lot about the class system in place. Pinto is stunning and has a much stronger presence than Patel. Khan works the investigation scenes well, which was important as these are where the story is told from. There are no real weak links in the performances  the fairy-tale nature of the tale means everyone has to focus on that side of it but they are still good.The film is not as perfect as you will hear but it is still very good at what it does. It is a wonderfully stylish and slick romantic fairytale that is cheering and uplifting but of course this does give the slight problem that it is a stylish, slick and uplifting film that features horribly real images of cruelty and poverty. It doesn't manage to reconcile this but it is strong enough to make you ignore this for the vast majority of the time, leaving you tense, hopeful and weepy.\n",
      "Jamal, Salim and Latika, three abnormally cute little kids, live in the Dharavi slums of India. Jamal is a dreamer, proud of his signed photograph of Bollywood superstar Amitabh Bachchan. Salim's a pragmatist. He sells Jamal's picture - the photo epitomizing Jamal's fantasies of upward mobility - for money. Latika sits between them. She's the female trophy who exists to either be corrupted by Salim or saved from the slums by Jamal's undying love.Directed by Danny Boyle, \"Slumdog Millionaire\" tells a familiar \"rags to riches\" tale. Its first act consists of several brief anecdotes, Boyle fetishizing the Dharavi slums, portraying poverty as a carnival of colours and soul-deadening action. Shot with the same over-saturation and hand-held work that made the slums of \"City of God\" and \"The Constant Gardener\" problematic, Boyle treats poverty as a MTV video.Of course it's not all fun and games. Mothers die, eyes are gorged out and child traffickers run rampant, but the film glosses over such matters, using them instead for tactical shocks and easy jolts. The reason these scenes, despite their inherent darkness, seem so trite, is because Boyle tries to have it both ways. \"Millionaire\", regardless of its social probing, is essentially a fantasy. It's a Cinderella story, our heroes rising above the slums by the sheer force of love and destiny, brought together on the set of a television game show, the power of pop culture lifting their dirty bodies from the filth and grime of Dharavi.We're expected to believe that children are harvested and abused, yet we're also expected to believe in magical happy endings where everything works out. Boyle wants the gravitas of a child watching his mother murdered, but he also wants the expired movie clichés central to a Disney love story.Toward the end of the film, a gangster cuts Latika's face with a knife. The resultant scar epitomizes \"Millionaire\". On the surface, we think we're looking at something \"real\", something \"violent\". But look closer and see how carefully placed and artfully directed that scar is. It's a single clean cut, perfectly framing the actress's face. It's not an ugly scar. It doesn't protrude or ruin her symmetry. In no way does it obscure her beauty. So while the initial impression is one of shock or even sympathy, the fraud is that it's carefully designed to be pretty. To be easy on the eyes and head. Contrast this with the Indian kids in 2004's \"Red Light Kids\" or with how the prostitutes are treated in \"Unforgiven\". It's not pretty when a woman is cut up. Boyle's film is one where he's not being honest about the situation, and the responsibility is on the audience not to think twice. Worse still is the film's reliance on destiny. What engenders Boyle's happy ending is the underdog's pure heroism, an egotistical lottery mentality, a belief in destiny, and the prodigal brother's heroic martyrdom. Indeed, Salim exists solely to do the dirty work of killing the bad guys so as not to interfere with the moral purity of Jamal. At the same time, it's hard to believe that anything really matters when everything in the film is simply working according to destiny. Apparently it's destined that all the other slum dwellers (who can't get onto a TV game show) continue to live a life of poverty.The film ends with all of rural India celebrating Jamal's victory as though it were their own triumph. The fact that \"one of their own\" has become rich elicits an outburst of joy. And this is the film's ideology: anybody can rise out of misery, if they are pure of heart and chosen by fate. Jamal is plucked arbitrarily out of the masses as a symbol. He is a celebration of the culture of the dice, the casino, the lucky ticket.And so the film ends with a \"happily ever after\". Our boy and girl embrace before the film erupts into a happy song and dance routine. It's all quite silly. But perhaps Danny Boyle is being ironic, deconstructing the fantasy image and poking fun at Bollywood's avoidance of truth? Or am I watching too much Altman? With this view mind, I gave the film another look. How straight is Boyle playing things? Consider this: the film travels from the \"reality\" of poverty to the artificial world of TV sets, Bollywood shenanigans and big money. The narrative then self-destructs, essentially becoming a thoughtless Bollywood dance movie. Brilliant still, the film ends with the line \"D: It is written\", an allusion to fate, but also implying perhaps that the story is itself fabricated, a screenplay and so profoundly false. Better yet, the entire film is told from the point of view of Jamal, who we know is an imaginative boy and fan of movies. Is it possible that Jamal, like Spacey in \"The Usual Suspects\", has just narrated a cosy lie to us solely to avoid being punished by the police? After all, Jamal is a known con artist and the plot is too unbelievable, too manufactured, to be true. The characters are too cardboard, too stereotype, too comic book. The love story is too insensible and contrived. Is it possible that Jamal has scammed the quiz program and that the film is a scam on the audience? But no, Boyle does not seem to go down this route. There's no irony here, no questioning of artificiality, and little inclination that Boyle believes his picture to be anything more than a straight fantasy. A better filmmaker would have probed deeper, undermining the carefully manufactured Bollywood image, but Boyle seems content with his happily ever after.6/10 – See \"Salaam Bombay!\", \"Los Olividados\", \"Land of Plenty and \"Wendy and Lucy\".\n",
      "\n",
      "Up (2009) 1049413\n",
      "Carl Fredricksen (Ed Asner) as a young quiet kid idolized explorer Charles Muntz (Christopher Plummer) and his discovery of Paradise Falls. Ellie is much more animated and also a great fan of Muntz. Together they would marry and live their lives together until the day she dies. Now Carl is hounded by a property developer and forced to go to a retirement home. Instead he ties a sea of helium balloons to his home and float away to Paradise Falls. Wilderness Explorer scout Russell who's trying to get an Assisting the Elderly badge gets dragged along on the adventure.The first part of this movie is a real tear jerker. When Carl and Ellie's lives flash through the years, all the heart breaks and all the love just jump off the screen. Then there is comedy as the journey to Paradise Falls starts. The movie gets very surreal with dog translators, and a very colorful bird. The villain is a bit too villainy. The story gets too serious at times. But it ends almost as emotionally as it starts. It is one of the best of Pixar.\n",
      "This film is possibly one of the best animated films of all time as it tells an emotional moving story while being funny. As I said the emotion in this film is full of heart and even though I didn't cry it will make most people cry. The characters in this are perfect even if it is a small character like Ellie or big character like Carl everybody gets so much development even Charles Muntz the villain of the film is also given development, even more than some superhero films nowadays. Also this film has comedy some Pixar films now just want to make you cry but in the 2000s they had mix of sad and funny moments. So overall this film is as close to perfect as an animated film can get, it is has a mix of emotions it is funny and sad when it needs to be it has so much heart and the characters are perfect. This film in my opinion is the best Pixar film.\n",
      "I love Pixar and feel they have been pretty consistent. True I do prefer Toy Story over Cars and Finding Nemo over Ratatouille, but I find their films amazingly animated and thrilling. I thought that after the first two Toy Story films, that Pixar wouldn't be able to make a film to top them. WALL-E, yes I loved it, came pretty close, but in my opinion Up is Pixar's masterwork. And why do I say that? Because it is widely imaginative and astonishing in its emotional range.First of all, the animation is stupendous, beautiful backgrounds, beautifully drawn characters and stunning colours. The scenery and sights are just fantastic, down to the colour and visual detail that went into the film. Michael Giacchino's music is stunning as well, simple yet melodious and sublime. And I do have to concur with the majority about the opening montage; Finding Nemo had some beautiful moments and WALL-E's haunting isolation moved me close to tears but this opening montage was so poignant and utterly heart-breaking. It is quite simply one of the most beautiful and effective beginnings ever to an animated film.I have heard complaints that the story meanders when the talking dogs are introduced and that they were irritating. Can I respectfully disagree? What I loved about Up was how widely imaginative it was, in short why shouldn't a dog talk? It's an animated film, why does it have to COMPLETELY realistic? Elephants don't fly, look at what Disney did with Dumbo.The story, back on target was well written, thrilling and startling with a sense of adventure with enough action and high-flying escapism for kids and adults. The script had some truly hilarious and surreal moments, while Toy Story had wonderful sophisticated dialogue, the dialogue in Up made me laugh and it made me cry.And finally the characters, I loved them all, grumpy old widower Carl, stowaway Russell, eccentric adventurer Charles Muntz, the big bird and the hilarious Doug. Russell may be a tad annoying at first, but he grows on you. The voice acting is exceptional- Carl is voiced with real demeanour and depth by Ed Asner and Christopher Plummer, the wonderful underrated actor he is, is superb as Charles Muntz. But I do have to give mention to Bob Peterson, he is simply brilliant as Doug, he is really funny when he needs to be and never overdoes it.Overall, this is a wonderful film. There may be controversy over how Beauty and the Beast is no longer the only animated film to be nominated for best picture. Beauty and the Beast has been and always will be my favourite animated film and one of my favourite films of all time (The Lion King is a very close second), but Up is a great film and does deserve an award of some kind. 10/10 Bethany Cox\n",
      "\n",
      "Hangover, The (2009) 1119646\n",
      "Phil (Bradley Cooper), Stu (Ed Helms), and Alan (Zach Galifianakis) wake up in Las Vegas hotel room with no memory of what happened the night before during their bachelor party. The problem is they lost the bachelor Doug (Justin Bartha).There's a tiger, a bunch of pictures, and a baby. All that is fun flashing lights, but it's the chemistry of the three that makes this movie. Zach Galifianakis' breakout performance is hilarious. But it means nothing if Bradley Cooper and Ed Helms wasn't there. Bradley is a great leading man, and Ed is able to balance out Zach.Director Todd Phillips really had the group humming. He has built up a nice resume of funny comedies. Also Ken Jeong literally jumps out onto the world.\n",
      "Top 10 comedies of all time. Enough jokes and hilarious situations to keep laughing long after the viewing.Sit back and enjoy the ride.\n",
      "Most great comedies are based on fundamental truths -- we find a deal of humour in the illumination of our own human tragedy. Office Space is funny, for example, because we've all worked that type of job, put up with that type of boss, and suffered that type of monotonous everyday boredom.Todd Phillips' new movie, The Hangover, is as aptly titled as anything else released this year: it's about a Vegas bachelor party gone horribly awry, in which the groom inexplicably disappears, no one can remember a damned thing, and Mike Tyson wants his tiger back.Yes, we've all had those nights, though perhaps not to such extremes (that's where the exaggeration of comedy serves us). The Hangover is funny because it takes this cultural ritual -- an American tradition; something almost all of us can relate to -- and finds genuine humour in the pain of its aftermath.I concede that bachelor party movies are not in short supply; the genre (if it is, indeed, a genre) should have probably both begun and ended with the Tom Hanks flick almost three decades ago. But The Hangover wisely studies the day after rather than the day itself; this is funnier because the plot works backwards, without tacky flashbacks, and much of the evening in question is left to our imagination.While it would be misleading to claim this is a brilliant film (in either regard – as comedy or character study), it's an assured picture that finds its footing immediately and achieves a surprising level of sustenance throughout its running time. And frankly, let's be honest, this is a breath of fresh air: it's one of the best R-rated comedies of the decade, and certainly the most uproarious since Superbad was released two years ago. Most R-rated comedies produced today are defiant; the R-rating has become a hindrance to film studios' sensibilities – everything is PG-13, saving the shameless Unrated schpeel for the DVD cut. The occasional theatrically-released R-rated comedy, as such, is infrequently modest; the ads stress the rating to remind us what we've been missing. For every legitimate offer, such as Forgetting Sarah Marshall, we're treated to movies like College that attempt to lure us into theaters based on the promise of raunchy decadence. The problem is that it's all so coldly calculated; these films are not funny because a majority of the time they are simply lazy and dishonest.The simplest reason for The Hangover's success in being genuinely funny is the fact that it achieves a rare balance of character and vulgarity. We laugh at the characters' misfortunes because we like them, we empathize with them, and they are distinctly actualized. Are they stereotypical? To a certain degree, sure: we have the repressed pussy-whipped guy who obeys his girlfriend's every command (Ed Helms); the weird John Belushi-esquire figure who speaks in non sequiturs and naïve absurdities (Zach Galifianakis); and the womanizer whose confidence renders him automatic leader of the group (Bradley Cooper). It's a testament to the strengths of these actors that they make their characters endearing and believable, even in the face of total lunacy.Helms has been an underrated highlight of the American Office for the past several years, never quite earning the praise he deserves. His character on the show is played with pitch-perfect perversity: he's not overtly creepy (like the program's other weirdo, Creed), but rather subtly unnerving. Helms invests a great deal of nuance into what is ostensibly a throwaway, supporting goofball; this movie, if nothing else, will justly reveal his talents.Cooper uses his looks to his advantage: it's funny to watch handsome people exploit their securities. Cooper essentially turns your typical Leading Man figure into a bumbling idiot, self-absorbed and clueless. It's effective, he's got great chemistry with the other guys, and it's fun to watch such an immoral and ruthless character take center stage in a mainstream comedy.Galifianakis, a cult comedian who I've admired for years, has been struggling quite a while. Not many people other than myself and Sean Penn saw his 2001 comedy Out Cold, probably because it wasn't all that great; but he was easily the most amusing aspect of the picture. He once described himself as being gifted by the opposite of the Midas touch, with more than a few canceled TV shows to his credit (including Comedy Central's unheralded Dog Bites Man), but it seems his persistence has finally paid off: he has discovered, at last, a movie of strong enough quality to reflect his talents. Galifianakis has a fair share of the film's funniest dialogue; as far as fat funny guys go, many of them (such as Chris Farley) made the ill-fated mistake of playing dumb in a sharp fashion: hurtful quips and silly one-liners, all self-aware. Galifianakis plays his character straight and the laughs are subsequently heartier; when he embraces his brother-in-law while nude, the act seems innocently awkward rather than deliberately awkward, and that's what makes it so funny. He's described in The Hangover, by another character, as a child with a beard. Imagine how funny it is when he names a Caucasian baby Carlos, without any shred of condescension or knowing humour.The Hangover is surely destined to become the sleeper comedy hit of 2009, and, more likely, a cult flick in the years to come. It's more deserving of such acknowledgment than many recent successes, and while we may live in an era saturated with unnecessary sequels, I actually left The Hangover hoping to see these guys again. And that's a rare feeling these days.\n",
      "\n",
      "District 9 (2009) 1136608\n",
      "This is such an incredibly weird movie that I am not even sure if I can adequately describe it, but I'll try. The film is, through the first half, a mockumentary about a problematic alien problem that will supposedly be happening in the near future. In 2010, an alien ship appears over Johannesburg and just hovers there. When humans eventually decide to cut through the hull, they find the ship packed with over a million aliens--aliens that are starving and look like giant bugs. Well, there seems to be no one in charge and they all are apparently workers who have no real purpose other than to work. When the UN decides to finally do something about it, the aliens are herded into a giant ghetto like those used during apartheid. And, for the most part, they are reviled or exploited--and kept as a permanent underclass.The film mostly centers around a rather dim civil servant, Wikus Van De Merwe (Sharlto Copley). He is the leader of an organization sent in to move the bugs to a new facility that also totally sucks--but is away from the humans--who have come to totally distrust and hate them. But, in the process he accidentally infects himself...and where this goes next is just amazingly weird! And, once infected, the film stops being a mockumentary and follows his new life as a wanted man. Why is he wanted, who wants him and what this is all about is just too much for this short review--really.So let's talk about the film. I used to think that movies like \"Happiness of the Katakuris\", \"Scott Pilgrim Vs. The World\" and \"Delicatessen\" were weird films, but \"District 9\" clearly sets a new standard for weird and creative. You simply cannot find anything like it--and it's wonderful to find a film that is this unique. Plus, like good sci-fi, this one is a great allegory with deeper contemporary meaning--with a lot to say about us screwed up humans! By the way, this movie is rated-R and it clearly deserves this. The language is very, very rough but the film is also very gross--with lots of blood, guys, vomiting and the like. It is NOT for a person with a weak stomach or children...seriously...do NOT let the kids see this one! Because of this, although I loved this film and was blown away by it, I also cannot see it as a perfect film--hence my not giving it a 10. It's just unnecessarily adult when it could have been a great film for a much wider audience.\n",
      "\"District 9\" is a film I was lucky enough to see in the theater when it first released. The marketing for the movie was remarkably good, posters everywhere meant that before you even entered the theater, you had already been primed to see the \"Prawns\" as a nuisance, larger and stronger than humans, and probably best kept at a distance. The film's opening and narrative bookends being from the perspective of a documentary of news crew meant that everything felt very lifelike when you saw ads running on TV. As a Sci-fi lover, my interest was primed and pumping as I bought my ticket.Now, 10 years later, my love for this movie is not as strong and has shifted from my previous reasons for liking it, but nevertheless, this is a film I expect will remain on my shelf for years to come.\"District 9\" wowed me in the beginning for many reasons. The first one out of the gate that grabs you is the world building. There are hosts of movies that take similar tacks when it comes to informing the audience about the history or rules of a fantasy, sci-fi, or just slightly left of real, world. Relate everything through news stories that play in the background or are featured in scenes that inform everyone as to what is going on. In fact, this approach is so common that it is considered a crutch by many filmmakers and is classically made fun of in the brilliant \"Shaun of the Dead\"It is truly rare to find films which spin a tried and maybe tired device into something fresh and even featured as a part of their film but Neill Blomkamp delivers a fresh look at documentary news coverage as exposition that simply stunned. Not only does the footage seem real, immersive, and present important concepts to audiences, it does so in a way that they are used to receiving information so that when they are presented with personal stories that contradict the news coverage, it causes them to ask questions about those same sorts of stories in their own lives, but more about that later.The next thing that stood out about the film was the performance of Sharlto Copley (\"Chappie\") which, essentially, launched his international career. One of the most difficult tasks that a writer, director, or actor faces is to make relatable that which is unrelatable. Taking a character like Wikus, who is blind to his prejudice, complicit activities, and general willful ignorance and turn him into someone for whom we have genuine empathy is the essential role of an artist. To not hide from the way that Wikus allows himself to be stupidly used in the beginning of the film and give him a journey which confronts him with the horrific results of his apathy in a way that leaves us hoping for better for him is the essence of good acting and I say Bravura to Copley for his performance.The reason that I highlight these two aspects of the film is because they are what I find to be essentially brilliant about the film, yet also what was lost on me about it ten years ago. With the way the film tells its story in two ways: through high level news; stories, documentary footage, and interviews with family and friends of Wikus; as well as on the ground personal interactions; between Wikus and his coworkers, the company, his family, and the Prawns; we end up getting the story from two perspectives.As a young man, I wasn't asking myself the questions I now ask myself so I only saw the interesting story, the horror of realizing something alien is happening to you, and the thrill of some impressive action sequences especially considering the budget. As an older man I realize that while the film is about these things on the surface, it is also about the difference between what we receive through screens, second hand accounts, and media outlets, as opposed to that which we experience personally.The film is about perception, propaganda, prejudice, and personal connection. It is about what is real and what is not. Questions like this continue to be begged more and more as our world becomes more saturated, debate if you will for good or ill, with screens, vlogs, stories, commercials, news stories, reality shows, and everything in between. \"District 9\" is a reminder that while our world has gotten wider with the advent of new technologies there is always the threat that it may not get deeper as it grows in breadth. We must remember that the tactile person to person contact which is the enemy of prejudice requires us to seek specifically for the individual and to see them for who they are as an individual and not just what group they belong to.The Prawn in this film is a stand in for all of the things we fear at a knee's jerk whether it is the immigrant, refugee, Muslim, Jew, Christian, Communist, Fascist, Snowflake, or Boomer. May we all seek to understand each other more despite the efforts of the powerful to shape our understanding through media.\n",
      "This movie different from the rest of the Alien movies. Though the gross awful looking aliens creeps me out most of the time at but that doesn't distract me from enjoying this the unique story. It kept at the edge of the seat whole time. It surprises, saddens, and amazes me at the same time. I never imagined this movie would end in this way.\n",
      "\n",
      "Zombieland (2009) 1156398\n",
      "First saw this in 2010 on a dvd which i own.\n",
      "Revisited it recently. As a fan of Woody Harrelson, I enjoyed this even more.\n",
      "The film follows four fellas making their way through the zombie apocalypse on a road trip.\n",
      "While one fella has a set of rules to survive, another has a craving for Twinkies and stops to acquire some even with the threat of zombies roaming the countryside.\n",
      "The list of rules, especially cardio, for surviving in the zombie-infested world, a clown-zombie n the drop tower ride, r all uniquely the highlight.\n",
      "From nothing means Zombie stories don't have much in it except from zombies and a nerdy guy who saves the world and becomes a hero. That's why Zombie movies aren't my favorite, except for Zombieland.\n",
      "I probably had the best movie dialogue of the month in this one. \"That's like asking who Gandhi is!\"\n",
      "The whole Bill Murray house was exceptional. I can't believe I saw the full House of Bill Murray. I felt as if I was literally seeing him.\n",
      "Could have shown more of the house, it was indeed fun.\n",
      "The four actors were remarkable, mainly the top 3! Tallahassee looked a perfect Texas man. They chose him correctly.\n",
      "Zombieland (2009): Dir: Ruben Fleischer / Cast: Jesse Eisenberg,Woody Harrelson, Emma Stone, Abigale Breslin, Bill Murray: Horror comedy about a decayed society where zombies roam about for blood and any remaining people struggle to survive. Although the ending never really resolves anything, the screenplay is detailed and unique climaxing at an amusement park where Zombies are splattered with creativity. Directed by Ruben Fleischer with graphic yet effective production. While the zombie comedy theme was also effective in Shaun of the Dead, Fleischer also has fun with many humorous scenes involving zombies in not so desirable light. Jesse Eisenberg narrates his fears and lack of family. He first gives an effective narration regarding the rules of zombie survival, then he encounters Woody Harrelson, a zombie killer. Harrelson steals the film as a twinkie craving zombie killer who takes them to the home of a famous Hollywood persona. Emma Stone and Abigail Breslin play two females who aren't who they seem. They steal their weapons while relying on each other for survival but eventually Eisenberg calls for a truce. Bill Murray is involved in the film's best joke when he appears to be playing himself undercover in this zombie society. While the world view presented here is hopeless and depressing, its society satire makes it one of the more clever zombie movies. Score: 8 / 10\n",
      "\n",
      "Shutter Island (2010) 1130884\n",
      "There are a number of films I've seen more than once, and if they're good (the only reason really, to watch them again), they become a richer experience and one gains a greater appreciation of them. \"Shutter Island\" might be the only picture that on subsequent viewings, becomes a DIFFERENT film from the one originally seen. I say this because the first time around, there's no way to take the character of Teddy Daniels (Leonardo DiCaprio) other than at face value. He's a detective investigating a missing person case on an island. Not your normal island, but one that's home to an institution for the criminally insane. Every interaction he has with a character in the picture is one between himself, Detective Daniels, and that character. As we come to learn, all that changes when Dr. Cawley (Ben Kingsley) reveals the twist near the end of the story, at which point, one is left either totally disillusioned or utterly blown away.What's unique and brilliant about the writing here is evident upon a second viewing. What we now know to be true about Teddy Daniels becomes even more evident. We're able to understand that in Teddy's first meeting with Naehring (Max von Sydow), Naehring is actually speaking to Laeddis. Yet those references to Laeddis/Daniels' 'defense mechanisms' could have been offered and taken either way. George Noyce (Jackie Earle Haley) was speaking to Laeddis as he had no reason not to. The vision of Rachel Solando in the cave was warning Teddy that he had no friends, and that there was no way off the island. This was a way for the viewer to understand that in some small way, Teddy/Laeddis was conversing with himself, sometimes with clarity and other times delusionally. The Warden (Ted Levine) is clearly speaking directly to Laeddis when he picks up Teddy after his night in the cave. This is all so masterfully done that even watching the picture multiple times, it's amazing to pick up on the nuance that went into developing the story.Now I have to admit, the first time I saw the picture and it became apparent that Teddy Daniels was Laeddis, I wanted to blow it off as one of those cheap constructs that film makers are prone to indulge in just to play with the viewer's head. But somehow, this was different. This was a study, a grand two day experiment if you will, designed to force Laeddis to come to terms with himself and what he had done to become confined to an institution. The way the whole story evolves is fascinating to watch, almost like watching the making of the movie instead of the movie itself. I've seen \"Shutter Island\" three times now in the space of about a month, and I know with certainty that I'll be watching it again. There's not many films I can say that about, but this one just begs it, almost like a patient requiring your uninterrupted attention.\n",
      "I originally saw this film when it came out but couldn't remember it well enough to give it a rating or write a review, so a rewatch was in order. I viewed the film through the lens of already knowing the plot twist, which made it a whole different experience. The ending will be remembered throughout film history as one that showed just how viciously a well written script can flip an audience over. This really is a film you should see twice.\n",
      "Martin Scorsese has done it again. He pays attention to every detail in this film, making \"Shutter Island\" one of the best suspense thrillers of all time.Visually intriguing, simplistic and absolutely phenomenal. The story is kept simplistic enough so it doesn't get absurd, but allows for an ending which you probably won't see coming. The film doesn't go for cheap thrills, so although you will be on the edge of your seat you won't get needlessly scared.The film uses everything at its disposal from breathtaking scenery, to detailed laid-out shots, and to actors at their finest to completely engross you in the film. I loved every minute of it and highly recommend it to everyone. Even if you're not a usual fan of the genre, this film has so much more to it.\n",
      "\n",
      "Inception (2010) 1375666\n",
      "My 3rd time watching this movie! Yet, it still stunned my mind, kept me enjoyed its every moment and left me with many thoughts afterward.For someone like me, who've rarely slept without dream, it's so exciting watching how Christopher Nolan had illustrated every single characteristic of dream on the big screen. As it's been done so sophisticatedly, I do believe the rumour that Nolan had spent 10 years to finish the script of Inception. In my opinion, it's been so far the greatest achievement in his brilliant writer-director career. I jumped into this conclusion after making a quick benchmark of Nolan's remarkable works:\n",
      "Memento, as his first signature in the cinema history, is tremendous and has stayed the most mind-bending film I've ever seen. But overall, it doesn't reach the same level of Inception.The Prestige is highly impressive but somehow I haven't been able to find the very particular \"Nolan's spirit\" in it.The Batman Trilogy is the best superhero saga of all time and its peak The Dark Knight is no doubt a masterpiece as well. Nonetheless, every time we talk about it, Heath Ledger takes all the spotlights with his life-time-role: The (unique-and-only) Joker.Then there came Inception where Nolan truly stood out, having every single detail of his work done in the finest way. The multi-layered storyline despite its complexity, remains consistent and originally interesting. From visual aspect, everything was masterly handled: an impeccable cross-cutting allowed the movie to follow Nolan's nonlinear story-telling without being scattered; a wonderful cinematography work completed with incredibly imaginative visual-effects brought into life so many breathtaking scenes, some of them, I believe, will stay in the audience's mind for a long time (city bending in Paris, zero-gravity fight, in limbo, dreams collapsing...). In addition, Nolan had also a solid cast ensemble to help him deliver all of his messages.Later, we had Interstellar. Though I did admire its cinematography and visual-effects, the film itself is nowhere near the level of Inception.\n",
      "SPOILERS AHEAD !!!!! For all who haven't watched this movie, you may stop the reading right here because the following paragraphs contain a ton of spoilers!It is set in the world where there's technology that allows people to literally share dream. There is, in this world, a new kind of corporate spy - \"extractors\" who use this technology to infiltrate the target's subconscious and extract valuable information through a shared dream world. Our hero Mr Cobb (Leonardo DiCaprio), a very well-known extractor, and his partner Arthur (Joseph Gordon-Levitt) are approached by a powerful businessman - Mr Saito (Ken Watanabe) for a nearly impossible mission, something no one has ever done before : instead of stealing, he wants them to plant an idea in a person's subconscious, which is also called \"inception\". In return, Saito offers something that Cobb could never resist: a ticket to go home with his children by taking out the homicide charge against him. So Cobb and Arthur gather a team to carry out the mission: Eames (Tom Hardy) - a veteran identity forger, Yusuf - the only one chemist can make such a powerful sedative for such a complex 3-levels \"dream within a dream\", and Ariadne (Ellen Page) - a newbie but remarkably talented architect whose role is critical for the success of the mission. The target is Robert Fischer (Cillian Murphy) - son and heir of Saito's biggest competitor (Maurice Fischer, who's dying). The goal is to seed an idea into his mind which will make him abandon his father's business, and the team has to carry Saito as visitor in their mission to let him verify the result of inception. While the team go deeper and deeper into Fischer's mind, we discover gradually the dark of Cobb's past, as well as the 2 biggest why concerning our hero: Why he has became such an expert of inception and What is his desperate motivation for taking that insane mission.The movie is not only about the inception mission but more importantly, about the struggle of finding the way in the maze of life. In Cobb's case, it's the maze of dreams built by his memories with his past wife Mal (Marion Cotillard) and his regrets. So as long as he let himself consumed by the past by blaming himself for the death of his love wife, it will keep coming back and haunt his present: the deeper the team go into dream, the more dangerous his subconscious, under the form of his ghostly wife, comes out and could anytime jeopardize the mission. Indeed, if we apprehend the movie with these 2 layers of its story, the ending scene makes perfect sense. Yes! We're now talking about that famous ending which has still remained one of the most controversial movie endings in the cinema history. Did Cobb find Mr Saito in limbo, bring he back to complete the mission then come back to his children in the real world? Or they are still stuck in limbo - the infinite dream world, and the last scene was just his big dream? But all of those question only matter in the first layer of the story: the result of inception mission. When we perceive the story in its deeper layer, as a journey for Cobb to let go of his feeling of guilt for the past and re-find the meaning of his life, this ending did fulfill its job. Cobb didn't even stay to see either if the spinning top would fall because he didn't care any more, what's important to him is that he gonna be with his kids. He did finally get rid of his haunting past and be able to move on, and that matters. And after all, dream or reality, the importance is to truly live. So from this point of view, he has solved the maze of his life.\n",
      "Some short lines about the cast:\n",
      "Leo has done justice to our main character but he did not success to make a leap from his previous similar roles in Shutter Island and Blood Diamond.Joseph Gordon-Levitt could have been more intense, given the fact that he had the most astounding fight scene in the movie (zero-gravity sequence).There was something missing in Ken Watanabe's performance to portray the powerful man who sponsored the crazy mission. Maybe it was his English...Tom Hardy was OK but forgettable because his character didn't have any memorable moment though he had a lot of screen time.Ellen Page was really impressive, she did fully illustrate the cleverness and the keenness of the young brilliant architect. And personally, I did find a lot of charms in her acting.Cillian Murphy has also done a great job. Much more emotionally complex than just a target of the inception mission, his character Robert Fischer, at the end, was not so different than our hero Cobb. They both were struggling to find a way out of their own maze. If for Cobb, it was the painful past with his late wife; for Fischer, it was the grand shadow and the lack of recognition of his late dad.Last but not least, the one who impressed me the most was Marion. Mal was so beautiful and mysterious in a very unique haunting way, mostly with her speaking eyes! And for me, she is the most remarkable character of the movie.\n",
      "You only get to watch this for the first time once, so choose your state of mind carefully.\n",
      "It is a film about movies and dreams and reality, and what sort of life it is best to find when you leave the cinema and return to whatever you left to enter.\n",
      "It is spectacular, and brutal, and enigmatic and disturbing.\n",
      "It is beautiful and absorbing.\n",
      "It is about one of my favourite characters ever to grace the screen.\n",
      "I don't see it often, in case it's not as good as I like to remember it.\n",
      "That is my secret, that I lock away in my safe in the basement.\n",
      "That somewhere there is a perfect world for us all.\n",
      "For some, perhaps it is in the cinema watching this.\n",
      "When you wake up from a good dream, you feel the reality is harsh. When you wake up after a bad dream, you will be sentimentally attached to the beauty of reality. But as long as life is good, reality and dreams don't matter.\n",
      "\n",
      "Social Network, The (2010) 1285016\n",
      "I'd put off watching THE SOCIAL NETWORK for a time, suspecting it to be a dry and slow-moving film. After all, it was about the guy who founded Facebook, so how much fun could it be? I didn't much like the idea of watching a film based around people sitting on computers, so I was in no hurry to see it.Now I've watched it, and things have changed. Because THE SOCIAL NETWORK turns out to be one of David Fincher's best films, and that's from a director whose filmography is littered with gems. This is a hugely entertaining and thoroughly gripping story of success, defeat, lies and deceit, and I was so caught up in the narrative that the two hour running time flew past.The joy of THE SOCIAL NETWORK is that it focuses on the conflict between the various parties involved with the founding of one of the world's most popular websites. It's bam, bam, bam, with barely time to breathe, let alone get bored. Good performances are given across the board, particularly from Jesse Eisenberg and Andrew Garfield, two actors I'm normally disposed to dislike, both of whom are excellent. Technical values are, unsurprisingly, absolutely spectacular, and it's clear that Fincher is in his element, making a mini-masterpiece out of the premise. Splendid stuff.\n",
      "Fast paced and interesting, this movie tries too hard to portray Zuckenberg in a better light than he deserves. He was not a good coder. He was much more exploitative than movie suggest, as his later love affair with CIA and selling personal data of facebook users for nefarious purposes proved. This guy is far less charismatic than portrayed (and he isn't portrayed as particularly charismatic to begin with) and far more calculating, menacing and Machiavelian than described. The only thing the movie did show worse than it was was Zuckenberg incel situation. Zuckenberg was dating a Chinese golddigger/smartdigger/Harvarddigger the whole time and they got married.But despite being more positive towards its subject than they would warrant, the movie manages to capture part of the psychopathic nature of facebook and its founding. Artistic liberties were taken in order to humanize these monsters, to make us care and for plot not to be boring. In that it succeeded, but humanizing monsters like Zuckenberg or Hitttlerr is never a good idea in a movie. However, you at least get an idea about the depths of the cutthrooat depravity that was only confirmed by the fact that facebook abuses the trust of its sheeple all the time, and a movie is fun to watch, and deserves a praise even if it is an idealised/sanitized/overseksed version of the sorry reality this movie is based on, and as a movie is well worth a watch, but keep in mind the reality was much darker and more boring at the same time.\n",
      "I am a big of David Fincher's work, when I realized he was going to make a film about the creation of Facebook, I was really excited. I came in the movie with huge expectations, and hopeful that it would turn out great. I have to say, I was impressed, my expectations were not only met, but they were blown away. The Social Network easily rivals Fincher's previous works like \"Fight Club\" or \"Se7en\".Aesthetically the film is very beautiful, its very \"Fincher\". It has a very perversely attractive appeal, a glimmering awfulness, as it was lit from within. David Fincher deserves an Oscar for Best Director, he is extremely underrated by the Academy. Hopefully this film will finally bring Fincher in a new light.The actors did an amazing job, they should all be recognized for their work in this movie. Jesse Eisenberg did an amazing job playing Mark Zuckerberg. Hopefully he will not be known as the next Michael Cera anymore. With this film, he established himself as a serious actor and he will have a bright future ahead of him. Andrew Garfield also did an amazing job as the co-founder of Facebook and the best friend of Zuckerberg. He deserves an Oscar nom and I hope we'll be seeing more of him in the future. The rest of the cast did a fine job and also hoping seeing them in the future.I recommend this movie to everyone, it deals with betrayal and greed. The movie definitely deserves an Academy award for Best Picture. It is extremely revalent for our times and many years to come. I consider this movie is a fine piece of modern filmmaking and probably will be considered as a classic in the future. So if you're not doing anything tonight, you should spent an evening in theaters to watch The Social Network.\n",
      "\n",
      "King's Speech, The (2010) 1504320\n",
      "You heard it from me: Not even James Franco with his boffo performance in 127 Hours can beat Colin Firth for the Oscar in King's Speech, a docudrama about the Duke of York (Firth) becoming King George VI while overcoming a crushing stutter. Not only does the actor get pitch perfect the stutter, but he also invests a kindness, courage, and vulnerability in the character that work in harmony to create an unforgettable George in an exquisite period peace.Not to forget how generously Geoffrey Rush underplays Lionel, the speech therapist who is instrumental in making the king a speaker and a friend. That low-key acting allows Firth the room to expand his king's personality without interference from an Oscar-winning co-star. This is history as I like to learn it—honest and engaging with palaces and minor characters well-appointed and underplayed themselves as part of a mosaic of challenges facing a handicapped king and a nation on the brink of WWII. The pace is close to languid, better to allow us to settle in for the painful transformation of a man unused to public speaking but used to family mocking his disability.George's bravery is the film's heartbeat, not flamboyant courage, mind you, but rather the kind that wakes us up to the character as complex and lovable. But valor is not his exclusively, Guy Pearce's Edward, who abdicates for his love, Wallace Simpson, can be seen as a courageous man giving up a crown for love or a fool falling for a twice-divorced socialite.Such an ambivalence is fitting for a film that gently introduces you to a period in British history when alliances are not clear and allegiances dangerous. One thing is patently clear, however—this is going to be on most critics' best film of the year list with a sure Oscar winner for its star. If Firth missed the brass ring last year in A Single Man, he'll grab it this year in King's Speech.\n",
      "There were a lot of elderly folks in the theatre when I saw The King's Speech. It occurred to me that some of them may have been alive when George VI gave the actual speech to the British Nation which had just declared war with Hitler.The King's Speech is a feel good movie, but a very adult one, and while it tells a good story, well scripted, absorbing and believable (except for an odd line or two), Tom Hooper's film is far more driven by character than by plot.You may need to see it to believe it but, Colin Firth has no obvious competition for the best actor awards which are coming his way. He is absorbed in the role of the stammering king who is timid, low in self-confidence, and frustrated but perfectly warm-hearted. The only time he doesn't stammer is oddly enough when he curses. This is something which his new speech therapist suggests he use as a practise tool in the one scene which earned the film an R rating. The King's Speech is arguably a proud moment for Geoffrey Rush as well. This is him at his best, and he and Firth together almost make the movie. Their exchange of dialogue is flawless. The King's Speech boasts an exceptional cast, which includes Helena Bonham Carter, Michael Gambon, Derek Jacobi and Guy Pearce, all of whom help contribute to the picture with the smallest amount of screen time.The King's Speech says a mouthful, and it warms the heart without question. There is also no question is arguing that it is among the very best of the year.\n",
      "The true-life story of one man's journey to overcome a speech impediment, with the added twist that that man just so happens to be the king of England. This is carefully crafted, emphasising characterisation over drama or action and with a wonderful and engaging script (incredible to believe that David Seidler's prior screenplay to this was the David Carradine vehicle KUNG FU KILLER).Colin Firth gives a pitch perfect performance as King George VI, a man beset by worries both internal and external. One thing I liked about the script is that it never seeks to paint the king as a man above all others: instead he's completely human, often displaying petulance, temper tantrums and arrogance as well as the courage and bravery we expect from the story. Geoffrey Rush steals every one of his scenes as the impish speech therapist, and he also gives the best I've seen from him. So check out THE KING'S SPEECH, a film that keeps on giving and giving; you won't be disappointed.\n",
      "\n",
      "The Hunger Games (2012) 1392170\n",
      "This is not so much a review, everything has already been said in the other postings, but rather my experience with this movie and book.OK, look, I'm probably old enough to be the grandfather of most of the people submitting reviews to this movie. I am not into the teen age drivel that seems to be everywhere you look these days but .....I first heard about the story when the book came out. It seemed you couldn't turn around without hearing it being discussed everywhere. The enormous hype made me mildly curious, but not so curious that I wanted to read the book. Fast forward several years: the book had been out, the movie hade been out, the DVD had been out and only then did I accidentally stumble across the DVD at the library. I could check it out for free and if I didn't like it I could turn it off after ten minutes ... so, why not?I immediately found myself captivated by the beautiful cinematography and background theme and despite the over-the-top and ridiculous costumes and makeup of the people in The Capitol I decided to continue watching. I was drawn deeper and deeper into the story and the characters and after about a fourth of the way through I knew I was hooked. The acting, starting with Jennifer Lawrence, was exceptionally good. I have to go through about 25 movies before I find one that I can say I absolutely loved ... this was a 25er.To finish my story: unbelievably, when I returned the DVD to the library, on a table in the lobby of the library where they sold used books cheaply, I found a mint condition copy of the book (the big paperback format) for fifty cents. I grabbed it. I began reading the book when I got home and couldn't put it down even though I already knew the story. Collins' writing style was as captivating as her story and the very few differences between the movie and the book were not worth mentioning. Actually, I thought the movie version of the ending was better (just couldn't imagine Rue as a werewolf).I now own, and have seen and read, all of the books and movies of the franchise and consider them among some of the best entertainment of my life. SO it seems the old adage is wrong because you really CAN teach an old dog new tricks. Other young adult movies came out after 'The Hunger Games' which tried to capitalize on the same type of theme and they, by comparison, have failed miserably in my estimation.\n",
      "The Hunger Games is ought to be the next big thing like Harry Potter, except it already started in a darker and more serious tone than any other young adult fantasy book films. The film did a good job executing its grit and thrills. Decent directing and amazing performances. The filmmakers did a fantastic job bringing Suzanne Collins' book to life. It's not the usual kind of blockbuster that focuses to its loudness. It's a film with moving drama and has its suspense.It's pretty easy to understand everything about this story and its world. We get to know most of it and the entire film is intriguing and undeniably entertaining. The cast brings most of it to life. Jennifer Lawrence is simply fantastic as Katniss. Josh Hutcherson is okay but does not tie with Lawrence. Woody Harrelson, Elizabeth Banks, Wes Bentley, Donald Sutherland, and Stanley Tucci didn't get a lot of screen time but they were good to their roles.The movie is great in suspense and drama. It doesn't have a lot of score which makes it moving and compelling. The moments of Katniss in the arena are stirring. Thrilling music score is a great effect to these sequences. Unlike our blockbusters these days, the film doesn't focus too much to the CGI and the explosions. There isn't really much explosions here. Surprisingly, the filmmakers aren't lazy to create a non-CGI set(except the chariots). There is, of course, still CGI here but not as excessive as our modern blockbusters. The action is pretty good with the shaky camera. It's nicely shot gives enough momentum and excitement. Most people complain to that though. Lastly, the production design is beyond decent.The Hunger Games is thrilling and solid enough. Decent filmmaking made it spectacular. It's amazing and intriguing enough to start a big series. It succeeds to become a solid and one and not a lackluster like Twilight or I Am Number Four. I don't know what else to say about it, but it's silent, gritty, and compelling.\n",
      "First there was Harry Potter, Lord of the Rings, then Twilight and now we have The Hunger Games. Let me start by saying much kudos to the film on being popular by word of the mouth because normally we are bombarded with crazy advertising for a film like this but instead I didn't see that much honestly. I think the film relied more on it's fan base than anything for the box office numbers and it really did pay off. My fiancé and I actually waited until this weekend to see The Hunger Games to see it with a not so crowded theater and still it was pretty packed. I didn't know what to expect and to be honest I thought I would never get into this film but I'm surprised to say that I really did like this movie and actually bought the book because of it. For a long time it felt like the teenager's intelligence was just being insulted with the bad writing with Twilight and I gave up hope for them. The Hunger Games is an intelligent well thought out story that has a clever take on our society and isn't afraid to tell you the truth.The nation of Panem, formed from a post-apocalyptic North America, consists of a wealthy Capitol and twelve poorer surrounding districts. As a punishment for a previous rebellion against the Capitol by the districts, one boy and one girl between the ages of 12 and 18 from each district are selected by an annual lottery to participate in the Hunger Games, an event in which the \"tributes\" must fight in an arena controlled by the Capitol until there is only one victor. Katniss, a 16-year-old girl from District 12, volunteers for the Hunger Games in place of her younger sister. Peeta, a baker's son is also selected. Katniss and Peeta are taken to the Capitol, where their drunken mentor, former Games victor, instructs them to watch and learn the talents of the other tributes. They get to go on TV and get treated like celebrities until the games begin and now must face survival and death.I thought the film was very clever on what would life be like if we were put into situations like this. I thought the \"tributes\" were treated more like American Idol contestants and that was very believable. I liked the characters and they were not only believable but they were likable. Jennifer Lawrence does a really good job as Katniss along with Woody Harrelson, Lenny Kravitz and Elizabeth Banks. The costumes were so creepy but believable that they would be considered the high fashions of the time. The action scenes were very exciting and also so sad and intense. These are kids who have to not only kill each other but face the possibility of dying before they can experience so much of what life has to offer. My only complaint of the film was the shaky cam effect. I don't mind when there's not much action going on in the movie, but when the action is happening, we couldn't tell who was getting killed and what was going on. Thank goodness this wasn't 3D because I would've had a big headache. Also I felt like the film cuts short on giving any of the other tributes any kind of character development that you really don't feel for them as much.But I thought this was a great movie and a good start to the summer blockbuster films. I have to admit that I will probably buy this when it's released on blu ray and will read the books, it seems like a really interesting story. I'm looking forward to the sequels and most of all I'm just glad that we will have a franchise again where the story is just plain exciting and we're dying to see what happens to our hero's next. I would recommend for you to see this film before it leaves the theaters. It's one that should be experienced on the big screen because of the scope of the movie, the sets are great and it's a movie that you really could get into. Looking forward to seeing what Katniss will do next now that she's ticked off the rich.8/10\n",
      "\n",
      "Dark Knight Rises, The (2012) 1345836\n",
      "There's a storm coming .....Years after being villified, Batman is encouraged once again to come Gotham's aid, as it's in the grip of a group of mercenaries run by the villainous Bane.First of all, you don't have to be a superhero fan to enjoy this great movie, it truly does have the most broad appeal, there's something here for everyone to enjoy. If you liked the two preceding films, I figure you'll love this one, I'm a fan of all three, this is my personal favourite.It's a long movie, but it flies by at a canter, no single frame is wasted, it moves by at a terrific pace, it has incredible action sequences, but the story is terrific.It's really interesting to see Batman coming in from a position where he's decided and feared, he's no longer accepted as Gotham's hero and saviour.Christian Bale is the perfect Batman, and he is matched every step of the way by Tom Hardy. Hardy is off the charts as Bane, the last time we saw the character was back in The Batman and Robin film, perhaps best forgotten, here though he's an iconic villain.I can't speak highly enough of Bale and Hardy, but this is also, I think the best of Anne Hathaway, she is excellent here.A decade on, and this film is still fabulous.10/10.\n",
      "After eight years in seclusion, Batman resurfaces to face Bane, a mastermind bent on destroying Gotham and has ties to Bruce Wayne's past. Christopher Nolan's conclusion to his Dark Knight trilogy should be treated as a wrap up rather than a third installment. Despite many new characters being introduced, even their conflicts and motives are derived from events that occurred in the previous two films. Such an approach could be seen as a weakness, since the conflict could just end up being sort of a rematch rather than moving the story forward; however, Nolan's approach works terrificly. Over an hour is shot in stunning IMAX, but the film is more touching than it is intense and that's its best quality. Hardy steps in as the genius mercenary Bane, who is slightly bigger, slightly stronger and slightly smarter than Batman, thus making him a challenge best suited for the grand finale. The Joker works best as Batman's arch-nemesis since they are polar opposites, with The Joker standing for everything Batman stands against. Two-Face works best as Batman's most tragic enemy because Harvey Dent is very much like Bruce Wayne the only difference is: Dent copes with his tragedy through revenge rather than seeking justice as Wayne did. Bane works best as Batman's most challenging villain because of his physical and mental superiority—forget the Bane you saw in \"BATMAN & ROBIN\". Nolan carefully chose all his villains in the series wisely and executed them perfectly. Hardy had big shoes to fill following Ledger's posthumous Oscar winning performance; while Bane is no Joker, Hardy does a satisfying job and should not be compared to Ledger's performance as they are completely different roles. It is Michael Caine, however, that delivers the most memorable and touching performance of the entire film. A wonderful conclusion to a wonderful trilogy.**** (out of four)\n",
      "Christopher Nolan's epic trilogy concludes in glorious fashion and gives us a thought provoking and suitably satisfying conclusion to an epic saga. It's emotional, intense and has a great villain in Tom Hardy.\n",
      "\n",
      "Django Unchained (2012) 1853728\n",
      "A German bounty hunter flees a Slave, Django, and the pair embark on a mission to find Django's wife.As soon as I heard Luis Bacalov's Django, I was hooked.This remains my favourite Tarantino film, and let's be fair there are many classics in that particular catalogue.Django is equal parts shocking, entertaining, dramatic, bold, funny and original, to this day no other film exists that is remotely similar. It's a western, action packed love story, it really is a one off.Three hours passed by effortlessly, it's one of those films where I wasn't aware of time passing by, I was engrossed and absorbed into it.Some of the humour is hilarious, and in the context of the film works to perfection, the humour is as good, as the violence and misery of slavery are guy wrenching.The music is absolutely wonderful, the perfect soundtrack accompanies this great film. Indeed the whole production is exemplary, it's a skilfully crafted film, the visuals are jaw dropping, it's very skillfully put together, with costumes, sets and lighting all on point, with the unbelievable staging as well.Now I am sometimes quick to highlight who stands out in a film or TV series, but how can you do that here, every single performance is on point, Waltz, Foxx, DiCaprio, Jackson, I honestly don't think it gets better than this assembly of greats.It's no wonder it gave us so many memes, who hasn't seen this masterpiece. If you haven't grab your remote, and improve your day.10/10.\n",
      "Dr. King Schultz (Christoph Waltz) is a bounty hunter. To identify his next catch, he tries to purchase Django (Jamie Foxx). Thing go all wrong Tarantino style. The two become friends and Dr Schultz decide on a plan to free Django's wife Broomhilda (Kerry Washington) from a notorious plantation owner Calvin Candie (Leonardo DiCaprio).This is Quentin Tarantino all the way. His style has become as unique & original as they come. There is no mistaking it for another. It's the music, the violence, the visuals, the black humor, and the subject matter. This is all Tarantino. If there is one complain, it's the double climax. While I understand the need for a happy Hollywood ending, it would have been better to have 1 big gun fight and just finish with it. Not that big of a deal. Certainly it's still a great film.\n",
      "Django's luck, has taken quite a turn, the chains around his legs, have suddenly been spurned, Dr Schultz did him a favour, uncoupled him from viscous slavers, now they're off to see what bounties can be earned. The rewards are more enticing than plain cash, as they hunt down evil villains and watch them crash, their revolvers take them out, seldom having time to shout, it's akin to picking up, discarded trash. Now Django's keen to find his wife who's kept, by Calvin Candie who is cunningly adept, at keeping people tethered, disobey and they get leathered, but the duo plan to make an intercept.Great performances, great dialogue and a bountiful tale set during the less celebratory times of a countries history.\n",
      "\n",
      "Grand Budapest Hotel, The (2014) 2278388\n",
      "That it was directed by Wes Anderson (who has a unique style that really fascinates, but admittedly not everybody will like or warm to his style) and that the cast is so stellar were reasons enough to see 'The Grand Budapest Hotel' in the first place, as well as its many accolades and critical acclaim.While it isn't quite flawless, and it is easy to see why a number of people don't like or will not like it (due to a lot of the cast's roles being pretty short, only Gustave and Zero being fully fleshed out of the characters and those who have a problem with Anderson's style), 'The Grand Budapest Hotel' is a visually stunning, hugely entertaining, wonderfully weird and impeccably cast and acted film.It really stuns visually, with cinematography that is not only clever in technique but also gorgeous in aesthetic and tight, fluid editing. The costumes, production design and hair and make-up richly deserved their Oscar/Academy Award wins, the costume and production design have a lusciously colourful fairy-tale feel while also given substance by the bleakly atmospheric quality that reflects the crime drama aspect of the story brilliantly.Alexandre Desplat also received an Oscar, and with its hauntingly hypnotic and entrancing tones it richly deserved it as to me it was by far the best score of those nominated. Anderson directs superbly, the story balances darkness and quirkiness to great effect (the prison scene is unforgettable) and it's never too simplistic or convoluted (though of course the visuals, dialogue and performances make much more of an impact) and the screenplay is a sublime mixture of the dark, the quirky, the witty and the subtle delivered with rapid-fire.'The Grand Budapest Hotel' boasts an impeccable cast and pretty much everybody does a splendid job, though many of the roles are short. My only criticism of the film is that Harvey Keitel and Saoirse Ronan are underused and just get lost amongst everything else, an unrecognisable Tilda Swinton also has little to do but still gives a bat-out-of-hell performance.Bill Murray, F. Murray Abraham, Jeff Goldblum, Jason Schwartzman and Owen Wilson give very entertaining performances, while Edward Norton is delightfully droll and Adrien Brody and especially Willem Dafoe bring sinister foreboding to the film. Some may say that Tony Revolori is overshadowed by the more experienced cast members (being the only newcomer in a large cast of big names), but to me he more than holds his own and effectively plays it straight. The film belongs to Ralph Fiennes, in what is essentially the heart of the film, while he has always been a fine actor he has not given a performance this brilliant in years, never knew he could be so riotously funny.In conclusion, a wonderful film and a hotel well worth revisiting more than once if to one's taste. 9/10 Bethany Cox\n",
      "Wes Anderson's films are really hard to describe or define. Suffice to say that he is unique in his style--very unique. This uniqueness is what makes \"The Grand Budapest Hotel\" worth seeing. It's an odd story where a story is told within a story--and it's filled with famous actors making lots of odd cameos. And, like Anderson's other films, it's full of odd characters, unusual dialog and brisk-paced editing. And, not surprisingly, it's NOTHING like other films by other directors.The bottom line is that all these weird factors work together to make a film that you'll probably enjoy--but, like me, you won't be exactly sure why!\n",
      "Can a film be absurd, funny, exciting, violent and colourful at the same time? Yes. 'The Grand Budapest Hotel' combines all those elements. And I didn't even mention the most important characteristic: it is visually wonderful.In this film, director Wes Anderson creates his own universe, full of colourful characters, old-world charm and witty one-liners. The nice thing about creating your own universe is that you can make it look perfect. Every shot, every little detail and every set is flawless. From lead character Gustave H.'s purple jacket to the title of the newspaper announcing the war (The Trans-Alpine Yodel) - Anderson has given thought and attention to everything.The story is not very important, because it is merely a vehicle for the stunning visuals, the dark humour and the rapid-fire dialogue. It's all about a hotel concierge, Gustave H., who is being chased by various villains for stealing a painting. All this is set against the backdrop of the Nazis invading Central Europe (although in Anderson's fantasy world they are not called Nazis of course). Some of the scenes are very funny, but there is always a darker tone because of the looming war. Anderson doesn't shy away from extreme violence, but he shows it in an offbeat and almost comical manner.My favourite scene, in which it all comes together, shows concierges in hotels all over Europe, calling each other to help Gustave H. Each of them is shown in his hotel (with a wonderful fantasy name of course), busy doing some important job like tasting the soup or giving first aid to an unconscious hotel guest, when he is being called away to the telephone. Each hands the job over to his assistant, and answers the phone. This fast succession of little scenes is done so perfectly, it's a great joy to watch.Ralph Fiennes steals the show as the sophisticated Gustave H., who never despairs, even in the most unfavourable circumstances. He is supported by a large number of star actors, who are sometimes almost unrecognizable. Because of the amount of support actors, some of them are a bit underused. Tilda Swinton gets rather little screen time, as does Harvey Keitel.The film moves forward at a breakneck speed. You have to be very alert in order not to miss something. The plot is not always very easy to follow, and the dialogue is fast. And there are the great camera angles and the wonderful detailed sets to pay attention to. I think by seeing the film a second time you can discover lots of things you didn't notice the first time.\n",
      "\n",
      "Guardians of the Galaxy (2014) 2015381\n",
      "One of the funniest Marvel films is a comedy movie with distinction. A simple story. All the heroes of the film were excellent, especially Drax, Rocket, Groot, and Alcmestri among the heroes of the film was excellent. The music scene was great, especially Come And Get Your Love.\n",
      "It is a very fun and entertaining film. The story and screenplay is amazing. The direction by James Gunn is awesome. The CGI and visual effects of the film are outstanding. The film is one of the best MCU films humor wise. The performances of the cast are great. All the main characters are very likable. Definitely a must watch even if you aren't a superhero movie lover.\n",
      "Marvel Studios' Guardians of the Galaxy is a smart, funny, bright, weird and exciting movie.\n",
      "It's a dazzling spectacle of gloriously bizarre entertainment. It boasts of a talented cast, an awesome soundtrack and great special effects.\n",
      "Guardians feels at once both epic and intimate. James Gunn's Guardians of the Galaxy's one of Marvel's best films to date.\n",
      "Rating: 9,2\n",
      "\n",
      "Deadpool (2016) 1431045\n",
      "The film opens with realistic gag credits and playing Ann Murray (I think it was her and not a Juice Newton cover). We have our main character going after a bad guy (Ed Skrein), being interrupted Colossus (Stefan Kapicic) and introduces moody teen Negasonic Teenage Warhead (Brianna Hildebrand). The film then resorts to flashbacks of Ryan Reynolds (not to be confused with Green Lantern) aka Wade Wilson becoming the near super hero \"Dead Pool\" operating with his own set of vigilante/special operations ethics.The film spoofs Avenger/X-Men films with numerous asides and one liners. It is critical of the shallow film industry in general while creating the same shallow film. The language in this film is adult, more adult than \"Kick-Ass,\" but is much funnier. This is not for the kids, but a good comedy for adults who like super hero films and I also know people who don't like super hero films, but loved this one.Guide: Many F-words, brief sex and nudity. Deadpool 2 has been announced with Ryan Reynolds.Note to self: Seltzer water and lemon takes out blood\n",
      "\"Deadpool\" is absolutely hilarious. The story isn't groundbreaking, but it does the trick and the same goes for the action which isn't bad either. The greatness of this film lies in its humor and its uniqueness. It isn't like every other superhero film. Whether you talk about the constant breaking of the fourth wall, the R-rating, or any of the very different characteristics of this film that differentiate it from other superhero movies. To be frank, it's arguable doesn't even justify the \"superhero\" stamp. It's something different.It needs to be said, the film might not be for everyone. It's very crude and it's filled with nudity and violence. The humor won't appeal to everyone either. It's quite dark sometimes and very satirical. Sure, \"Deadpool\" isn't for everyone, but to the right audience, it's a masterpiece. The humor is great and there are countless hilarious jokes throughout that will make you laugh. Ryan Reynolds is perfect for Deadpool and he does so well in the role. It is a truly great performance by him.To sum up, \"Deadpool\" is a great film that might not be for everyone. I recommend it.\n",
      "One of the greatest anti-hero - the Merc with a mouth - Wade Wilson was once a special forces operative but turned mercenary. After being subjected to a rogue experiment, he finds himself with accelerated healing and transforms himself into Deadpool. Armed with weapons (and a wicked sense of humour) he will stop at nothing to track down the men responsible.Never have I seen so many fans (or moviegoers), dying to see a character like Deadpool on the big screen; it's a bit like how everyone wanted to see The Avengers on the big screen back in late 2011. It's bad enough that the studios can't seem to get the character right with the disaster that was X-Men Origins: Wolverine. But the respect and love that fans have for this character stayed strong until everyone's prays was finally answered by this movie. And it did not disappoint, because Deadpool lives up to hype by being entertaining and hilarious. While I don't think it is a masterpiece of all comic book movies I did have fun watching this movie. It's a film that fans wanted and got.I can't imagine anyone else in Hollywood playing Deadpool but only Ryan Reynolds. He was born to play this character and he's the only actor that I think of to do the character justice. Reynolds as expected did that, and has made the character of Deadpool his own. He was terrific as the mouth talking, ant-hero bad-ass. This is Ryan Reynolds come back role after his past disasters roles that mostly involves Green Lantern and Origins Wolverine (that this movie brilliantly makes fun off). Reynolds was just perfect for this character and he did a great performance in this film. He delivered the comedic timing and the somewhat of a hidden charm that Deadpool has. Ryan Reynolds absolutely nailed it.The writing in this movie was surprisingly good, which I didn't expect for a movie with this kind of character. Of course there are Easter eggs, references and nods to the comics and Marvel movies, but in this movie it's done in such a way that feels kind of refreshing. I know for a fact that I missed a lot of the jokes and references due to amount of laughter that I had while watching the movie. I can say it with a brave face that the writing is this movies biggest strength, because it's self awareness on Marvel movies and itself was all top notch.I'm so happy that this movie is rated 18 and not some watered down movie, because if you honestly think a Deadpool movie should be rated anything less then you really don't know the character at all.\n"
     ]
    }
   ],
   "source": [
    "# Using \"links.csv\", scrape the IMDB reviews of each movie with more than 50 user ratings.\n",
    "\n",
    "import requests\n",
    "from bs4 import BeautifulSoup\n",
    "\n",
    "links_df = pd.read_csv(\"P:\\Artificial Intelligence\\internship code\\datasets\\movie data\\links.csv\")\n",
    "\n",
    "popular_movies = merged_data[merged_data['rating_count'] > 50]\n",
    "\n",
    "for index, row in filtered_movies.iterrows():\n",
    "    movie_id = row['movieId']\n",
    "    imdb_id = links_df[links_df['movieId'] == movie_id]['imdbId'].values[0]\n",
    "    imdb_url = f\"https://www.imdb.com/title/tt{imdb_id}/reviews\"\n",
    "\n",
    "    response = requests.get(imdb_url)\n",
    "    if response.status_code == 200:\n",
    "        html_content = response.text\n",
    "        soup = BeautifulSoup(html_content, 'html.parser')\n",
    "        reviews = soup.find_all(class_='text show-more__control')\n",
    "        print()\n",
    "        print(row['title'], imdb_id)\n",
    "        for review in reviews[:3]:\n",
    "            print(review.text.strip())"
   ]
  },
  {
   "cell_type": "code",
   "execution_count": 25,
   "metadata": {},
   "outputs": [
    {
     "name": "stdout",
     "output_type": "stream",
     "text": [
      "318\n"
     ]
    }
   ],
   "source": [
    "# To find movieId of the movie which has the highest IMDB rating.\n",
    "\n",
    "\n",
    "highest_rating = 0\n",
    "highest_rated_movie_id = None\n",
    "\n",
    "for index, row in filtered_movies.iterrows():\n",
    "    movie_id = row['movieId']\n",
    "    imdb_id = links_df[links_df['movieId'] == movie_id]['imdbId'].values[0]\n",
    "    imdb_url = f\"https://www.imdb.com/title/tt{imdb_id}/\"\n",
    "\n",
    "    response = requests.get(imdb_url)\n",
    "\n",
    "    if response.status_code == 200:\n",
    "        html_content = response.text\n",
    "        soup = BeautifulSoup(html_content, 'html.parser')\n",
    "\n",
    "        rating_element = soup.find('span', itemprop='ratingValue')\n",
    "        if rating_element:\n",
    "            imdb_rating = float(rating_element.text)\n",
    "\n",
    "            if imdb_rating > highest_rating:\n",
    "                highest_rating = imdb_rating\n",
    "                highest_rated_movie_id = movie_id\n",
    "\n",
    "print(highest_rated_movie_id)"
   ]
  },
  {
   "cell_type": "code",
   "execution_count": 23,
   "metadata": {},
   "outputs": [],
   "source": [
    "# To find movieId of the \"Sci-Fi\" movie which has the highest IMDB rating.\n",
    "\n",
    "\n",
    "grouped_ratings = rating_df.groupby('movieId')['rating'].agg(['count', 'mean']).reset_index()\n",
    "grouped_ratings.columns = ['movieId', 'rating_count', 'rating_mean']\n",
    "\n",
    "merged_data = pd.merge(movie_df, grouped_ratings, on='movieId', how='inner')\n",
    "filtered_scifi_movies = merged_data[(merged_data['rating_count'] > 50) &\n",
    "                                    (merged_data['genres'].str.contains('Sci-Fi', case=False))]\n",
    "\n"
   ]
  },
  {
   "cell_type": "code",
   "execution_count": 24,
   "metadata": {},
   "outputs": [
    {
     "name": "stdout",
     "output_type": "stream",
     "text": [
      "79132\n"
     ]
    }
   ],
   "source": [
    "highest_rating = 0\n",
    "highest_rated_scifi_movie_id = None\n",
    "\n",
    "for index, row in filtered_scifi_movies.iterrows():\n",
    "    movie_id = row['movieId']\n",
    "    imdb_id = links_df[links_df['movieId'] == movie_id]['imdbId'].values[0]\n",
    "    imdb_url = f\"https://www.imdb.com/title/tt{imdb_id}/\"\n",
    "\n",
    "    response = requests.get(imdb_url)\n",
    "    if response.status_code == 200:\n",
    "        html_content = response.text\n",
    "        soup = BeautifulSoup(html_content, 'html.parser')\n",
    "\n",
    "        rating_element = soup.find('span', itemprop='ratingValue')\n",
    "        if rating_element:\n",
    "            imdb_rating = float(rating_element.text)\n",
    "\n",
    "            if imdb_rating > highest_rating:\n",
    "                highest_rating = imdb_rating\n",
    "                highest_rated_scifi_movie_id = movie_id\n",
    "\n",
    "print(highest_rated_scifi_movie_id)"
   ]
  }
 ],
 "metadata": {
  "kernelspec": {
   "display_name": "Python 3",
   "language": "python",
   "name": "python3"
  },
  "language_info": {
   "codemirror_mode": {
    "name": "ipython",
    "version": 3
   },
   "file_extension": ".py",
   "mimetype": "text/x-python",
   "name": "python",
   "nbconvert_exporter": "python",
   "pygments_lexer": "ipython3",
   "version": "3.9.2"
  }
 },
 "nbformat": 4,
 "nbformat_minor": 2
}

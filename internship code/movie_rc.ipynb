{
 "cells": [
  {
   "cell_type": "code",
   "execution_count": 21,
   "metadata": {},
   "outputs": [],
   "source": [
    "import numpy as np \n",
    "import pandas as pd\n",
    "import matplotlib.pyplot as plt"
   ]
  },
  {
   "cell_type": "code",
   "execution_count": 5,
   "metadata": {},
   "outputs": [],
   "source": [
    "movie_df = pd.read_csv(\"P:\\Artificial Intelligence\\internship code\\datasets\\movie data\\movies.csv\")"
   ]
  },
  {
   "cell_type": "code",
   "execution_count": 3,
   "metadata": {},
   "outputs": [
    {
     "data": {
      "text/plain": [
       "(9742, 3)"
      ]
     },
     "execution_count": 3,
     "metadata": {},
     "output_type": "execute_result"
    }
   ],
   "source": [
    "movie_df.shape"
   ]
  },
  {
   "cell_type": "code",
   "execution_count": 11,
   "metadata": {},
   "outputs": [
    {
     "data": {
      "text/html": [
       "<div>\n",
       "<style scoped>\n",
       "    .dataframe tbody tr th:only-of-type {\n",
       "        vertical-align: middle;\n",
       "    }\n",
       "\n",
       "    .dataframe tbody tr th {\n",
       "        vertical-align: top;\n",
       "    }\n",
       "\n",
       "    .dataframe thead th {\n",
       "        text-align: right;\n",
       "    }\n",
       "</style>\n",
       "<table border=\"1\" class=\"dataframe\">\n",
       "  <thead>\n",
       "    <tr style=\"text-align: right;\">\n",
       "      <th></th>\n",
       "      <th>movieId</th>\n",
       "      <th>title</th>\n",
       "      <th>genres</th>\n",
       "    </tr>\n",
       "  </thead>\n",
       "  <tbody>\n",
       "    <tr>\n",
       "      <th>0</th>\n",
       "      <td>1</td>\n",
       "      <td>Toy Story (1995)</td>\n",
       "      <td>Adventure|Animation|Children|Comedy|Fantasy</td>\n",
       "    </tr>\n",
       "    <tr>\n",
       "      <th>1</th>\n",
       "      <td>2</td>\n",
       "      <td>Jumanji (1995)</td>\n",
       "      <td>Adventure|Children|Fantasy</td>\n",
       "    </tr>\n",
       "    <tr>\n",
       "      <th>2</th>\n",
       "      <td>3</td>\n",
       "      <td>Grumpier Old Men (1995)</td>\n",
       "      <td>Comedy|Romance</td>\n",
       "    </tr>\n",
       "    <tr>\n",
       "      <th>3</th>\n",
       "      <td>4</td>\n",
       "      <td>Waiting to Exhale (1995)</td>\n",
       "      <td>Comedy|Drama|Romance</td>\n",
       "    </tr>\n",
       "    <tr>\n",
       "      <th>4</th>\n",
       "      <td>5</td>\n",
       "      <td>Father of the Bride Part II (1995)</td>\n",
       "      <td>Comedy</td>\n",
       "    </tr>\n",
       "  </tbody>\n",
       "</table>\n",
       "</div>"
      ],
      "text/plain": [
       "   movieId                               title  \\\n",
       "0        1                    Toy Story (1995)   \n",
       "1        2                      Jumanji (1995)   \n",
       "2        3             Grumpier Old Men (1995)   \n",
       "3        4            Waiting to Exhale (1995)   \n",
       "4        5  Father of the Bride Part II (1995)   \n",
       "\n",
       "                                        genres  \n",
       "0  Adventure|Animation|Children|Comedy|Fantasy  \n",
       "1                   Adventure|Children|Fantasy  \n",
       "2                               Comedy|Romance  \n",
       "3                         Comedy|Drama|Romance  \n",
       "4                                       Comedy  "
      ]
     },
     "execution_count": 11,
     "metadata": {},
     "output_type": "execute_result"
    }
   ],
   "source": [
    "movie_df.head()"
   ]
  },
  {
   "cell_type": "code",
   "execution_count": 14,
   "metadata": {},
   "outputs": [
    {
     "data": {
      "text/plain": [
       "Emma (1996)                               2\n",
       "War of the Worlds (2005)                  2\n",
       "Confessions of a Dangerous Mind (2002)    2\n",
       "Eros (2004)                               2\n",
       "Saturn 3 (1980)                           2\n",
       "                                         ..\n",
       "Lost and Delirious (2001)                 1\n",
       "Rape Me (Baise-moi) (2000)                1\n",
       "Alice (1990)                              1\n",
       "Another Woman (1988)                      1\n",
       "Andrew Dice Clay: Dice Rules (1991)       1\n",
       "Name: title, Length: 9737, dtype: int64"
      ]
     },
     "execution_count": 14,
     "metadata": {},
     "output_type": "execute_result"
    }
   ],
   "source": [
    "movie_df['title'].value_counts()"
   ]
  },
  {
   "cell_type": "code",
   "execution_count": 6,
   "metadata": {},
   "outputs": [],
   "source": [
    "rating_df = pd.read_csv(\"P:\\Artificial Intelligence\\internship code\\datasets\\movie data\\\\ratings.csv\")"
   ]
  },
  {
   "cell_type": "code",
   "execution_count": 7,
   "metadata": {},
   "outputs": [
    {
     "data": {
      "text/plain": [
       "(100836, 4)"
      ]
     },
     "execution_count": 7,
     "metadata": {},
     "output_type": "execute_result"
    }
   ],
   "source": [
    "rating_df.shape"
   ]
  },
  {
   "cell_type": "code",
   "execution_count": 8,
   "metadata": {},
   "outputs": [
    {
     "data": {
      "text/html": [
       "<div>\n",
       "<style scoped>\n",
       "    .dataframe tbody tr th:only-of-type {\n",
       "        vertical-align: middle;\n",
       "    }\n",
       "\n",
       "    .dataframe tbody tr th {\n",
       "        vertical-align: top;\n",
       "    }\n",
       "\n",
       "    .dataframe thead th {\n",
       "        text-align: right;\n",
       "    }\n",
       "</style>\n",
       "<table border=\"1\" class=\"dataframe\">\n",
       "  <thead>\n",
       "    <tr style=\"text-align: right;\">\n",
       "      <th></th>\n",
       "      <th>userId</th>\n",
       "      <th>movieId</th>\n",
       "      <th>rating</th>\n",
       "      <th>timestamp</th>\n",
       "    </tr>\n",
       "  </thead>\n",
       "  <tbody>\n",
       "    <tr>\n",
       "      <th>0</th>\n",
       "      <td>1</td>\n",
       "      <td>1</td>\n",
       "      <td>4.0</td>\n",
       "      <td>964982703</td>\n",
       "    </tr>\n",
       "    <tr>\n",
       "      <th>1</th>\n",
       "      <td>1</td>\n",
       "      <td>3</td>\n",
       "      <td>4.0</td>\n",
       "      <td>964981247</td>\n",
       "    </tr>\n",
       "    <tr>\n",
       "      <th>2</th>\n",
       "      <td>1</td>\n",
       "      <td>6</td>\n",
       "      <td>4.0</td>\n",
       "      <td>964982224</td>\n",
       "    </tr>\n",
       "    <tr>\n",
       "      <th>3</th>\n",
       "      <td>1</td>\n",
       "      <td>47</td>\n",
       "      <td>5.0</td>\n",
       "      <td>964983815</td>\n",
       "    </tr>\n",
       "    <tr>\n",
       "      <th>4</th>\n",
       "      <td>1</td>\n",
       "      <td>50</td>\n",
       "      <td>5.0</td>\n",
       "      <td>964982931</td>\n",
       "    </tr>\n",
       "  </tbody>\n",
       "</table>\n",
       "</div>"
      ],
      "text/plain": [
       "   userId  movieId  rating  timestamp\n",
       "0       1        1     4.0  964982703\n",
       "1       1        3     4.0  964981247\n",
       "2       1        6     4.0  964982224\n",
       "3       1       47     5.0  964983815\n",
       "4       1       50     5.0  964982931"
      ]
     },
     "execution_count": 8,
     "metadata": {},
     "output_type": "execute_result"
    }
   ],
   "source": [
    "rating_df.head()"
   ]
  },
  {
   "cell_type": "code",
   "execution_count": 9,
   "metadata": {},
   "outputs": [
    {
     "data": {
      "text/plain": [
       "414    2698\n",
       "599    2478\n",
       "474    2108\n",
       "448    1864\n",
       "274    1346\n",
       "       ... \n",
       "442      20\n",
       "569      20\n",
       "320      20\n",
       "576      20\n",
       "53       20\n",
       "Name: userId, Length: 610, dtype: int64"
      ]
     },
     "execution_count": 9,
     "metadata": {},
     "output_type": "execute_result"
    }
   ],
   "source": [
    "rating_df['userId'].value_counts()"
   ]
  },
  {
   "cell_type": "code",
   "execution_count": 10,
   "metadata": {},
   "outputs": [
    {
     "name": "stdout",
     "output_type": "stream",
     "text": [
      "[  1   2   3   4   5   6   7   8   9  10  11  12  13  14  15  16  17  18\n",
      "  19  20  21  22  23  24  25  26  27  28  29  30  31  32  33  34  35  36\n",
      "  37  38  39  40  41  42  43  44  45  46  47  48  49  50  51  52  53  54\n",
      "  55  56  57  58  59  60  61  62  63  64  65  66  67  68  69  70  71  72\n",
      "  73  74  75  76  77  78  79  80  81  82  83  84  85  86  87  88  89  90\n",
      "  91  92  93  94  95  96  97  98  99 100 101 102 103 104 105 106 107 108\n",
      " 109 110 111 112 113 114 115 116 117 118 119 120 121 122 123 124 125 126\n",
      " 127 128 129 130 131 132 133 134 135 136 137 138 139 140 141 142 143 144\n",
      " 145 146 147 148 149 150 151 152 153 154 155 156 157 158 159 160 161 162\n",
      " 163 164 165 166 167 168 169 170 171 172 173 174 175 176 177 178 179 180\n",
      " 181 182 183 184 185 186 187 188 189 190 191 192 193 194 195 196 197 198\n",
      " 199 200 201 202 203 204 205 206 207 208 209 210 211 212 213 214 215 216\n",
      " 217 218 219 220 221 222 223 224 225 226 227 228 229 230 231 232 233 234\n",
      " 235 236 237 238 239 240 241 242 243 244 245 246 247 248 249 250 251 252\n",
      " 253 254 255 256 257 258 259 260 261 262 263 264 265 266 267 268 269 270\n",
      " 271 272 273 274 275 276 277 278 279 280 281 282 283 284 285 286 287 288\n",
      " 289 290 291 292 293 294 295 296 297 298 299 300 301 302 303 304 305 306\n",
      " 307 308 309 310 311 312 313 314 315 316 317 318 319 320 321 322 323 324\n",
      " 325 326 327 328 329 330 331 332 333 334 335 336 337 338 339 340 341 342\n",
      " 343 344 345 346 347 348 349 350 351 352 353 354 355 356 357 358 359 360\n",
      " 361 362 363 364 365 366 367 368 369 370 371 372 373 374 375 376 377 378\n",
      " 379 380 381 382 383 384 385 386 387 388 389 390 391 392 393 394 395 396\n",
      " 397 398 399 400 401 402 403 404 405 406 407 408 409 410 411 412 413 414\n",
      " 415 416 417 418 419 420 421 422 423 424 425 426 427 428 429 430 431 432\n",
      " 433 434 435 436 437 438 439 440 441 442 443 444 445 446 447 448 449 450\n",
      " 451 452 453 454 455 456 457 458 459 460 461 462 463 464 465 466 467 468\n",
      " 469 470 471 472 473 474 475 476 477 478 479 480 481 482 483 484 485 486\n",
      " 487 488 489 490 491 492 493 494 495 496 497 498 499 500 501 502 503 504\n",
      " 505 506 507 508 509 510 511 512 513 514 515 516 517 518 519 520 521 522\n",
      " 523 524 525 526 527 528 529 530 531 532 533 534 535 536 537 538 539 540\n",
      " 541 542 543 544 545 546 547 548 549 550 551 552 553 554 555 556 557 558\n",
      " 559 560 561 562 563 564 565 566 567 568 569 570 571 572 573 574 575 576\n",
      " 577 578 579 580 581 582 583 584 585 586 587 588 589 590 591 592 593 594\n",
      " 595 596 597 598 599 600 601 602 603 604 605 606 607 608 609 610]\n"
     ]
    }
   ],
   "source": [
    "unique_user_ids = rating_df['userId'].unique()\n",
    "\n",
    "# Print or access unique user IDs\n",
    "print(unique_user_ids)"
   ]
  },
  {
   "cell_type": "code",
   "execution_count": 12,
   "metadata": {},
   "outputs": [
    {
     "name": "stdout",
     "output_type": "stream",
     "text": [
      "The movie with the maximum number of ratings is: Forrest Gump (1994)\n"
     ]
    }
   ],
   "source": [
    "# Group by 'movieId' and count the number of ratings for each movie\n",
    "movie_ratings_count = rating_df.groupby('movieId').size().reset_index(name='rating_count')\n",
    "\n",
    "# Find the movie with the maximum number of ratings\n",
    "max_rated_movie = movie_ratings_count[movie_ratings_count['rating_count'] == movie_ratings_count['rating_count'].max()]\n",
    "\n",
    "# Get the movie ID (or title) with the maximum ratings\n",
    "max_rated_movie_id = max_rated_movie['movieId'].values[0]\n",
    "\n",
    "# Find the movie title corresponding to the ID (if titles are available in another DataFrame)\n",
    "\n",
    "max_rated_movie_title = movie_df[movie_df['movieId'] == max_rated_movie_id]['title'].values[0]\n",
    "\n",
    "print(f\"The movie with the maximum number of ratings is: {max_rated_movie_title}\")"
   ]
  },
  {
   "cell_type": "code",
   "execution_count": 53,
   "metadata": {},
   "outputs": [
    {
     "name": "stdout",
     "output_type": "stream",
     "text": [
      "Movie ID(s) for 'Matrix, The (1999)':\n",
      "Series([], Name: movieId, dtype: int64)\n"
     ]
    },
    {
     "name": "stderr",
     "output_type": "stream",
     "text": [
      "C:\\Users\\Aditya\\AppData\\Local\\Temp/ipykernel_16836/999501968.py:4: UserWarning: This pattern is interpreted as a regular expression, and has match groups. To actually get the groups, use str.extract.\n",
      "  movie_ids = movie_df[movie_df['title'].str.contains(movie_title, case=False)]['movieId']\n"
     ]
    }
   ],
   "source": [
    "movie_title = \"Matrix, The (1999)\"\n",
    "\n",
    "# Filter the DataFrame for the given movie title\n",
    "movie_ids = movie_df[movie_df['title'].str.contains(movie_title, case=False)]['movieId']\n",
    "\n",
    "print(f\"Movie ID(s) for '{movie_title}':\")\n"
   ]
  },
  {
   "cell_type": "code",
   "execution_count": 16,
   "metadata": {},
   "outputs": [
    {
     "name": "stdout",
     "output_type": "stream",
     "text": [
      "Correct tags for 'Matrix, The (1999)':\n",
      "['martial arts' 'sci-fi' 'alternate universe' 'philosophy'\n",
      " 'post apocalyptic']\n"
     ]
    }
   ],
   "source": [
    "tags_df = pd.read_csv(\"P:\\Artificial Intelligence\\internship code\\datasets\\movie data\\\\tags.csv\")\n",
    "\n",
    "# Assuming 'movieId' for \"Matrix, The (1999)\" is known (replace with the correct ID)\n",
    "matrix_movie_id = 2571  # Replace with the actual movieId for \"Matrix, The (1999)\"\n",
    "\n",
    "# Filter tags for the movie with movieId 2571 (Matrix, The (1999))\n",
    "matrix_tags = tags_df[(tags_df['movieId'] == matrix_movie_id)]\n",
    "\n",
    "# Display the correct tags for \"Matrix, The (1999)\"\n",
    "correct_tags = matrix_tags['tag'].unique()\n",
    "print(\"Correct tags for 'Matrix, The (1999)':\")\n",
    "print(correct_tags)"
   ]
  },
  {
   "cell_type": "code",
   "execution_count": 17,
   "metadata": {},
   "outputs": [
    {
     "data": {
      "text/html": [
       "<div>\n",
       "<style scoped>\n",
       "    .dataframe tbody tr th:only-of-type {\n",
       "        vertical-align: middle;\n",
       "    }\n",
       "\n",
       "    .dataframe tbody tr th {\n",
       "        vertical-align: top;\n",
       "    }\n",
       "\n",
       "    .dataframe thead th {\n",
       "        text-align: right;\n",
       "    }\n",
       "</style>\n",
       "<table border=\"1\" class=\"dataframe\">\n",
       "  <thead>\n",
       "    <tr style=\"text-align: right;\">\n",
       "      <th></th>\n",
       "      <th>userId</th>\n",
       "      <th>movieId</th>\n",
       "      <th>tag</th>\n",
       "      <th>timestamp</th>\n",
       "    </tr>\n",
       "  </thead>\n",
       "  <tbody>\n",
       "    <tr>\n",
       "      <th>0</th>\n",
       "      <td>2</td>\n",
       "      <td>60756</td>\n",
       "      <td>funny</td>\n",
       "      <td>1445714994</td>\n",
       "    </tr>\n",
       "    <tr>\n",
       "      <th>1</th>\n",
       "      <td>2</td>\n",
       "      <td>60756</td>\n",
       "      <td>Highly quotable</td>\n",
       "      <td>1445714996</td>\n",
       "    </tr>\n",
       "    <tr>\n",
       "      <th>2</th>\n",
       "      <td>2</td>\n",
       "      <td>60756</td>\n",
       "      <td>will ferrell</td>\n",
       "      <td>1445714992</td>\n",
       "    </tr>\n",
       "    <tr>\n",
       "      <th>3</th>\n",
       "      <td>2</td>\n",
       "      <td>89774</td>\n",
       "      <td>Boxing story</td>\n",
       "      <td>1445715207</td>\n",
       "    </tr>\n",
       "    <tr>\n",
       "      <th>4</th>\n",
       "      <td>2</td>\n",
       "      <td>89774</td>\n",
       "      <td>MMA</td>\n",
       "      <td>1445715200</td>\n",
       "    </tr>\n",
       "  </tbody>\n",
       "</table>\n",
       "</div>"
      ],
      "text/plain": [
       "   userId  movieId              tag   timestamp\n",
       "0       2    60756            funny  1445714994\n",
       "1       2    60756  Highly quotable  1445714996\n",
       "2       2    60756     will ferrell  1445714992\n",
       "3       2    89774     Boxing story  1445715207\n",
       "4       2    89774              MMA  1445715200"
      ]
     },
     "execution_count": 17,
     "metadata": {},
     "output_type": "execute_result"
    }
   ],
   "source": [
    "tags_df.head()"
   ]
  },
  {
   "cell_type": "code",
   "execution_count": 19,
   "metadata": {},
   "outputs": [
    {
     "name": "stdout",
     "output_type": "stream",
     "text": [
      "Average user rating for 'Terminator 2: Judgment Day (1991)': 3.97\n"
     ]
    }
   ],
   "source": [
    "movie_title = \"Terminator 2: Judgment Day (1991)\"\n",
    "movie_id = movie_df[movie_df['title'] == movie_title]['movieId'].values[0]\n",
    "\n",
    "# Calculate the average user rating for the movie\n",
    "average_rating = rating_df[rating_df['movieId'] == movie_id]['rating'].mean()\n",
    "\n",
    "print(f\"Average user rating for '{movie_title}': {average_rating:.2f}\")"
   ]
  },
  {
   "cell_type": "code",
   "execution_count": 22,
   "metadata": {},
   "outputs": [
    {
     "data": {
      "image/png": "[encoded data removed]",
      "text/plain": [
       "<Figure size 576x432 with 1 Axes>"
      ]
     },
     "metadata": {
      "needs_background": "light"
     },
     "output_type": "display_data"
    }
   ],
   "source": [
    "movie_title = \"Fight Club (1999)\"\n",
    "movie_id = movie_df[movie_df['title'] == movie_title]['movieId'].values[0]\n",
    "\n",
    "# Filter the ratings data for the movie \"Fight Club (1999)\"\n",
    "fight_club_ratings = rating_df[rating_df['movieId'] == movie_id]['rating']\n",
    "\n",
    "# Create a histogram to visualize the distribution of ratings\n",
    "plt.figure(figsize=(8, 6))\n",
    "plt.hist(fight_club_ratings, bins=10, color='skyblue', edgecolor='black')\n",
    "plt.title(f'Distribution of User Ratings for \"{movie_title}\"')\n",
    "plt.xlabel('Rating')\n",
    "plt.ylabel('Frequency')\n",
    "plt.grid(axis='y', alpha=0.5)\n",
    "plt.show()"
   ]
  },
  {
   "cell_type": "code",
   "execution_count": 23,
   "metadata": {},
   "outputs": [
    {
     "name": "stdout",
     "output_type": "stream",
     "text": [
      "   movieId                    title  \\\n",
      "0        1         Toy Story (1995)   \n",
      "1        2           Jumanji (1995)   \n",
      "2        3  Grumpier Old Men (1995)   \n",
      "5        6              Heat (1995)   \n",
      "6        7           Sabrina (1995)   \n",
      "\n",
      "                                        genres  rating_count  rating_mean  \n",
      "0  Adventure|Animation|Children|Comedy|Fantasy           215     3.920930  \n",
      "1                   Adventure|Children|Fantasy           110     3.431818  \n",
      "2                               Comedy|Romance            52     3.259615  \n",
      "5                        Action|Crime|Thriller           102     3.946078  \n",
      "6                               Comedy|Romance            54     3.185185  \n"
     ]
    }
   ],
   "source": [
    "# Step 1: Group user ratings by movieId and aggregate using count and mean\n",
    "grouped_ratings = rating_df.groupby('movieId')['rating'].agg(['count', 'mean']).reset_index()\n",
    "grouped_ratings.columns = ['movieId', 'rating_count', 'rating_mean']\n",
    "\n",
    "# Step 2: Merge the aggregated ratings with the movies DataFrame on movieId\n",
    "merged_data = pd.merge(movie_df, grouped_ratings, on='movieId', how='inner')\n",
    "\n",
    "# Step 3: Filter movies with more than 50 user ratings\n",
    "filtered_movies = merged_data[merged_data['rating_count'] > 50]\n",
    "\n",
    "print(filtered_movies.head())  # Display the filtered movies"
   ]
  },
  {
   "cell_type": "code",
   "execution_count": 24,
   "metadata": {},
   "outputs": [
    {
     "name": "stdout",
     "output_type": "stream",
     "text": [
      "The most popular movie based on average user ratings is: 'Shawshank Redemption, The (1994)'\n",
      "Average user rating: 4.43\n"
     ]
    }
   ],
   "source": [
    "# Find the movie with the highest average user rating\n",
    "most_popular_movie = filtered_movies.loc[filtered_movies['rating_mean'].idxmax()]\n",
    "\n",
    "print(f\"The most popular movie based on average user ratings is: '{most_popular_movie['title']}'\")\n",
    "print(f\"Average user rating: {most_popular_movie['rating_mean']:.2f}\")"
   ]
  },
  {
   "cell_type": "code",
   "execution_count": 38,
   "metadata": {},
   "outputs": [
    {
     "name": "stdout",
     "output_type": "stream",
     "text": [
      "318\n",
      "Shawshank Redemption, The (1994)\n"
     ]
    }
   ],
   "source": [
    "print(most_popular_movie['movieId'])\n",
    "print(most_popular_movie['title'])"
   ]
  },
  {
   "cell_type": "code",
   "execution_count": 41,
   "metadata": {},
   "outputs": [
    {
     "data": {
      "text/html": [
       "<div>\n",
       "<style scoped>\n",
       "    .dataframe tbody tr th:only-of-type {\n",
       "        vertical-align: middle;\n",
       "    }\n",
       "\n",
       "    .dataframe tbody tr th {\n",
       "        vertical-align: top;\n",
       "    }\n",
       "\n",
       "    .dataframe thead th {\n",
       "        text-align: right;\n",
       "    }\n",
       "</style>\n",
       "<table border=\"1\" class=\"dataframe\">\n",
       "  <thead>\n",
       "    <tr style=\"text-align: right;\">\n",
       "      <th></th>\n",
       "      <th>movieId</th>\n",
       "      <th>title</th>\n",
       "      <th>genres</th>\n",
       "    </tr>\n",
       "  </thead>\n",
       "  <tbody>\n",
       "    <tr>\n",
       "      <th>250</th>\n",
       "      <td>289</td>\n",
       "      <td>Only You (1994)</td>\n",
       "      <td>Comedy|Romance</td>\n",
       "    </tr>\n",
       "    <tr>\n",
       "      <th>251</th>\n",
       "      <td>290</td>\n",
       "      <td>Once Were Warriors (1994)</td>\n",
       "      <td>Crime|Drama</td>\n",
       "    </tr>\n",
       "    <tr>\n",
       "      <th>252</th>\n",
       "      <td>291</td>\n",
       "      <td>Poison Ivy II (1996)</td>\n",
       "      <td>Drama|Thriller</td>\n",
       "    </tr>\n",
       "    <tr>\n",
       "      <th>253</th>\n",
       "      <td>292</td>\n",
       "      <td>Outbreak (1995)</td>\n",
       "      <td>Action|Drama|Sci-Fi|Thriller</td>\n",
       "    </tr>\n",
       "    <tr>\n",
       "      <th>254</th>\n",
       "      <td>293</td>\n",
       "      <td>Léon: The Professional (a.k.a. The Professiona...</td>\n",
       "      <td>Action|Crime|Drama|Thriller</td>\n",
       "    </tr>\n",
       "    <tr>\n",
       "      <th>255</th>\n",
       "      <td>294</td>\n",
       "      <td>Perez Family, The (1995)</td>\n",
       "      <td>Comedy|Romance</td>\n",
       "    </tr>\n",
       "    <tr>\n",
       "      <th>256</th>\n",
       "      <td>295</td>\n",
       "      <td>Pyromaniac's Love Story, A (1995)</td>\n",
       "      <td>Comedy|Romance</td>\n",
       "    </tr>\n",
       "    <tr>\n",
       "      <th>257</th>\n",
       "      <td>296</td>\n",
       "      <td>Pulp Fiction (1994)</td>\n",
       "      <td>Comedy|Crime|Drama|Thriller</td>\n",
       "    </tr>\n",
       "    <tr>\n",
       "      <th>258</th>\n",
       "      <td>298</td>\n",
       "      <td>Pushing Hands (Tui shou) (1992)</td>\n",
       "      <td>Drama</td>\n",
       "    </tr>\n",
       "    <tr>\n",
       "      <th>259</th>\n",
       "      <td>299</td>\n",
       "      <td>Priest (1994)</td>\n",
       "      <td>Drama</td>\n",
       "    </tr>\n",
       "    <tr>\n",
       "      <th>260</th>\n",
       "      <td>300</td>\n",
       "      <td>Quiz Show (1994)</td>\n",
       "      <td>Drama</td>\n",
       "    </tr>\n",
       "    <tr>\n",
       "      <th>261</th>\n",
       "      <td>301</td>\n",
       "      <td>Picture Bride (Bijo photo) (1994)</td>\n",
       "      <td>Drama|Romance</td>\n",
       "    </tr>\n",
       "    <tr>\n",
       "      <th>262</th>\n",
       "      <td>302</td>\n",
       "      <td>Queen Margot (Reine Margot, La) (1994)</td>\n",
       "      <td>Drama|Romance</td>\n",
       "    </tr>\n",
       "    <tr>\n",
       "      <th>263</th>\n",
       "      <td>303</td>\n",
       "      <td>Quick and the Dead, The (1995)</td>\n",
       "      <td>Action|Thriller|Western</td>\n",
       "    </tr>\n",
       "    <tr>\n",
       "      <th>264</th>\n",
       "      <td>304</td>\n",
       "      <td>Roommates (1995)</td>\n",
       "      <td>Comedy|Drama</td>\n",
       "    </tr>\n",
       "    <tr>\n",
       "      <th>265</th>\n",
       "      <td>305</td>\n",
       "      <td>Ready to Wear (Pret-A-Porter) (1994)</td>\n",
       "      <td>Comedy</td>\n",
       "    </tr>\n",
       "    <tr>\n",
       "      <th>266</th>\n",
       "      <td>306</td>\n",
       "      <td>Three Colors: Red (Trois couleurs: Rouge) (1994)</td>\n",
       "      <td>Drama</td>\n",
       "    </tr>\n",
       "    <tr>\n",
       "      <th>267</th>\n",
       "      <td>307</td>\n",
       "      <td>Three Colors: Blue (Trois couleurs: Bleu) (1993)</td>\n",
       "      <td>Drama</td>\n",
       "    </tr>\n",
       "    <tr>\n",
       "      <th>268</th>\n",
       "      <td>308</td>\n",
       "      <td>Three Colors: White (Trzy kolory: Bialy) (1994)</td>\n",
       "      <td>Comedy|Drama</td>\n",
       "    </tr>\n",
       "    <tr>\n",
       "      <th>269</th>\n",
       "      <td>310</td>\n",
       "      <td>Rent-a-Kid (1995)</td>\n",
       "      <td>Comedy</td>\n",
       "    </tr>\n",
       "    <tr>\n",
       "      <th>270</th>\n",
       "      <td>311</td>\n",
       "      <td>Relative Fear (1994)</td>\n",
       "      <td>Horror|Thriller</td>\n",
       "    </tr>\n",
       "    <tr>\n",
       "      <th>271</th>\n",
       "      <td>312</td>\n",
       "      <td>Stuart Saves His Family (1995)</td>\n",
       "      <td>Comedy</td>\n",
       "    </tr>\n",
       "    <tr>\n",
       "      <th>272</th>\n",
       "      <td>313</td>\n",
       "      <td>Swan Princess, The (1994)</td>\n",
       "      <td>Animation|Children</td>\n",
       "    </tr>\n",
       "    <tr>\n",
       "      <th>273</th>\n",
       "      <td>314</td>\n",
       "      <td>Secret of Roan Inish, The (1994)</td>\n",
       "      <td>Children|Drama|Fantasy|Mystery</td>\n",
       "    </tr>\n",
       "    <tr>\n",
       "      <th>274</th>\n",
       "      <td>315</td>\n",
       "      <td>Specialist, The (1994)</td>\n",
       "      <td>Action|Drama|Thriller</td>\n",
       "    </tr>\n",
       "    <tr>\n",
       "      <th>275</th>\n",
       "      <td>316</td>\n",
       "      <td>Stargate (1994)</td>\n",
       "      <td>Action|Adventure|Sci-Fi</td>\n",
       "    </tr>\n",
       "    <tr>\n",
       "      <th>276</th>\n",
       "      <td>317</td>\n",
       "      <td>Santa Clause, The (1994)</td>\n",
       "      <td>Comedy|Drama|Fantasy</td>\n",
       "    </tr>\n",
       "    <tr>\n",
       "      <th>277</th>\n",
       "      <td>318</td>\n",
       "      <td>Shawshank Redemption, The (1994)</td>\n",
       "      <td>Crime|Drama</td>\n",
       "    </tr>\n",
       "    <tr>\n",
       "      <th>278</th>\n",
       "      <td>319</td>\n",
       "      <td>Shallow Grave (1994)</td>\n",
       "      <td>Comedy|Drama|Thriller</td>\n",
       "    </tr>\n",
       "    <tr>\n",
       "      <th>279</th>\n",
       "      <td>320</td>\n",
       "      <td>Suture (1993)</td>\n",
       "      <td>Film-Noir|Thriller</td>\n",
       "    </tr>\n",
       "    <tr>\n",
       "      <th>280</th>\n",
       "      <td>321</td>\n",
       "      <td>Strawberry and Chocolate (Fresa y chocolate) (...</td>\n",
       "      <td>Drama</td>\n",
       "    </tr>\n",
       "    <tr>\n",
       "      <th>281</th>\n",
       "      <td>322</td>\n",
       "      <td>Swimming with Sharks (1995)</td>\n",
       "      <td>Comedy|Drama</td>\n",
       "    </tr>\n",
       "    <tr>\n",
       "      <th>282</th>\n",
       "      <td>324</td>\n",
       "      <td>Sum of Us, The (1994)</td>\n",
       "      <td>Comedy|Drama</td>\n",
       "    </tr>\n",
       "    <tr>\n",
       "      <th>283</th>\n",
       "      <td>325</td>\n",
       "      <td>National Lampoon's Senior Trip (1995)</td>\n",
       "      <td>Comedy</td>\n",
       "    </tr>\n",
       "    <tr>\n",
       "      <th>284</th>\n",
       "      <td>326</td>\n",
       "      <td>To Live (Huozhe) (1994)</td>\n",
       "      <td>Drama</td>\n",
       "    </tr>\n",
       "    <tr>\n",
       "      <th>285</th>\n",
       "      <td>327</td>\n",
       "      <td>Tank Girl (1995)</td>\n",
       "      <td>Action|Comedy|Sci-Fi</td>\n",
       "    </tr>\n",
       "    <tr>\n",
       "      <th>286</th>\n",
       "      <td>328</td>\n",
       "      <td>Tales from the Crypt Presents: Demon Knight (1...</td>\n",
       "      <td>Horror|Thriller</td>\n",
       "    </tr>\n",
       "    <tr>\n",
       "      <th>287</th>\n",
       "      <td>329</td>\n",
       "      <td>Star Trek: Generations (1994)</td>\n",
       "      <td>Adventure|Drama|Sci-Fi</td>\n",
       "    </tr>\n",
       "    <tr>\n",
       "      <th>288</th>\n",
       "      <td>330</td>\n",
       "      <td>Tales from the Hood (1995)</td>\n",
       "      <td>Action|Crime|Horror</td>\n",
       "    </tr>\n",
       "    <tr>\n",
       "      <th>289</th>\n",
       "      <td>331</td>\n",
       "      <td>Tom &amp; Viv (1994)</td>\n",
       "      <td>Drama</td>\n",
       "    </tr>\n",
       "    <tr>\n",
       "      <th>290</th>\n",
       "      <td>332</td>\n",
       "      <td>Village of the Damned (1995)</td>\n",
       "      <td>Horror|Sci-Fi</td>\n",
       "    </tr>\n",
       "    <tr>\n",
       "      <th>291</th>\n",
       "      <td>333</td>\n",
       "      <td>Tommy Boy (1995)</td>\n",
       "      <td>Comedy</td>\n",
       "    </tr>\n",
       "    <tr>\n",
       "      <th>292</th>\n",
       "      <td>334</td>\n",
       "      <td>Vanya on 42nd Street (1994)</td>\n",
       "      <td>Drama</td>\n",
       "    </tr>\n",
       "    <tr>\n",
       "      <th>293</th>\n",
       "      <td>335</td>\n",
       "      <td>Underneath (1995)</td>\n",
       "      <td>Mystery|Thriller</td>\n",
       "    </tr>\n",
       "    <tr>\n",
       "      <th>294</th>\n",
       "      <td>336</td>\n",
       "      <td>Walking Dead, The (1995)</td>\n",
       "      <td>Drama|War</td>\n",
       "    </tr>\n",
       "    <tr>\n",
       "      <th>295</th>\n",
       "      <td>337</td>\n",
       "      <td>What's Eating Gilbert Grape (1993)</td>\n",
       "      <td>Drama</td>\n",
       "    </tr>\n",
       "    <tr>\n",
       "      <th>296</th>\n",
       "      <td>338</td>\n",
       "      <td>Virtuosity (1995)</td>\n",
       "      <td>Action|Sci-Fi|Thriller</td>\n",
       "    </tr>\n",
       "    <tr>\n",
       "      <th>297</th>\n",
       "      <td>339</td>\n",
       "      <td>While You Were Sleeping (1995)</td>\n",
       "      <td>Comedy|Romance</td>\n",
       "    </tr>\n",
       "    <tr>\n",
       "      <th>298</th>\n",
       "      <td>340</td>\n",
       "      <td>War, The (1994)</td>\n",
       "      <td>Adventure|Drama|War</td>\n",
       "    </tr>\n",
       "    <tr>\n",
       "      <th>299</th>\n",
       "      <td>341</td>\n",
       "      <td>Double Happiness (1994)</td>\n",
       "      <td>Drama</td>\n",
       "    </tr>\n",
       "  </tbody>\n",
       "</table>\n",
       "</div>"
      ],
      "text/plain": [
       "     movieId                                              title  \\\n",
       "250      289                                    Only You (1994)   \n",
       "251      290                          Once Were Warriors (1994)   \n",
       "252      291                               Poison Ivy II (1996)   \n",
       "253      292                                    Outbreak (1995)   \n",
       "254      293  Léon: The Professional (a.k.a. The Professiona...   \n",
       "255      294                           Perez Family, The (1995)   \n",
       "256      295                  Pyromaniac's Love Story, A (1995)   \n",
       "257      296                                Pulp Fiction (1994)   \n",
       "258      298                    Pushing Hands (Tui shou) (1992)   \n",
       "259      299                                      Priest (1994)   \n",
       "260      300                                   Quiz Show (1994)   \n",
       "261      301                  Picture Bride (Bijo photo) (1994)   \n",
       "262      302             Queen Margot (Reine Margot, La) (1994)   \n",
       "263      303                     Quick and the Dead, The (1995)   \n",
       "264      304                                   Roommates (1995)   \n",
       "265      305               Ready to Wear (Pret-A-Porter) (1994)   \n",
       "266      306   Three Colors: Red (Trois couleurs: Rouge) (1994)   \n",
       "267      307   Three Colors: Blue (Trois couleurs: Bleu) (1993)   \n",
       "268      308    Three Colors: White (Trzy kolory: Bialy) (1994)   \n",
       "269      310                                  Rent-a-Kid (1995)   \n",
       "270      311                               Relative Fear (1994)   \n",
       "271      312                     Stuart Saves His Family (1995)   \n",
       "272      313                          Swan Princess, The (1994)   \n",
       "273      314                   Secret of Roan Inish, The (1994)   \n",
       "274      315                             Specialist, The (1994)   \n",
       "275      316                                    Stargate (1994)   \n",
       "276      317                           Santa Clause, The (1994)   \n",
       "277      318                   Shawshank Redemption, The (1994)   \n",
       "278      319                               Shallow Grave (1994)   \n",
       "279      320                                      Suture (1993)   \n",
       "280      321  Strawberry and Chocolate (Fresa y chocolate) (...   \n",
       "281      322                        Swimming with Sharks (1995)   \n",
       "282      324                              Sum of Us, The (1994)   \n",
       "283      325              National Lampoon's Senior Trip (1995)   \n",
       "284      326                            To Live (Huozhe) (1994)   \n",
       "285      327                                   Tank Girl (1995)   \n",
       "286      328  Tales from the Crypt Presents: Demon Knight (1...   \n",
       "287      329                      Star Trek: Generations (1994)   \n",
       "288      330                         Tales from the Hood (1995)   \n",
       "289      331                                   Tom & Viv (1994)   \n",
       "290      332                       Village of the Damned (1995)   \n",
       "291      333                                   Tommy Boy (1995)   \n",
       "292      334                        Vanya on 42nd Street (1994)   \n",
       "293      335                                  Underneath (1995)   \n",
       "294      336                           Walking Dead, The (1995)   \n",
       "295      337                 What's Eating Gilbert Grape (1993)   \n",
       "296      338                                  Virtuosity (1995)   \n",
       "297      339                     While You Were Sleeping (1995)   \n",
       "298      340                                    War, The (1994)   \n",
       "299      341                            Double Happiness (1994)   \n",
       "\n",
       "                             genres  \n",
       "250                  Comedy|Romance  \n",
       "251                     Crime|Drama  \n",
       "252                  Drama|Thriller  \n",
       "253    Action|Drama|Sci-Fi|Thriller  \n",
       "254     Action|Crime|Drama|Thriller  \n",
       "255                  Comedy|Romance  \n",
       "256                  Comedy|Romance  \n",
       "257     Comedy|Crime|Drama|Thriller  \n",
       "258                           Drama  \n",
       "259                           Drama  \n",
       "260                           Drama  \n",
       "261                   Drama|Romance  \n",
       "262                   Drama|Romance  \n",
       "263         Action|Thriller|Western  \n",
       "264                    Comedy|Drama  \n",
       "265                          Comedy  \n",
       "266                           Drama  \n",
       "267                           Drama  \n",
       "268                    Comedy|Drama  \n",
       "269                          Comedy  \n",
       "270                 Horror|Thriller  \n",
       "271                          Comedy  \n",
       "272              Animation|Children  \n",
       "273  Children|Drama|Fantasy|Mystery  \n",
       "274           Action|Drama|Thriller  \n",
       "275         Action|Adventure|Sci-Fi  \n",
       "276            Comedy|Drama|Fantasy  \n",
       "277                     Crime|Drama  \n",
       "278           Comedy|Drama|Thriller  \n",
       "279              Film-Noir|Thriller  \n",
       "280                           Drama  \n",
       "281                    Comedy|Drama  \n",
       "282                    Comedy|Drama  \n",
       "283                          Comedy  \n",
       "284                           Drama  \n",
       "285            Action|Comedy|Sci-Fi  \n",
       "286                 Horror|Thriller  \n",
       "287          Adventure|Drama|Sci-Fi  \n",
       "288             Action|Crime|Horror  \n",
       "289                           Drama  \n",
       "290                   Horror|Sci-Fi  \n",
       "291                          Comedy  \n",
       "292                           Drama  \n",
       "293                Mystery|Thriller  \n",
       "294                       Drama|War  \n",
       "295                           Drama  \n",
       "296          Action|Sci-Fi|Thriller  \n",
       "297                  Comedy|Romance  \n",
       "298             Adventure|Drama|War  \n",
       "299                           Drama  "
      ]
     },
     "execution_count": 41,
     "metadata": {},
     "output_type": "execute_result"
    }
   ],
   "source": [
    "movie_df.iloc[250:300, :]"
   ]
  },
  {
   "cell_type": "code",
   "execution_count": 25,
   "metadata": {},
   "outputs": [
    {
     "name": "stdout",
     "output_type": "stream",
     "text": [
      "Top 5 popular movies based on number of user ratings:\n",
      "                                 title  rating_count\n",
      "314                Forrest Gump (1994)           329\n",
      "277   Shawshank Redemption, The (1994)           317\n",
      "257                Pulp Fiction (1994)           307\n",
      "510   Silence of the Lambs, The (1991)           279\n",
      "1938                Matrix, The (1999)           278\n"
     ]
    }
   ],
   "source": [
    "# Sort the filtered movies by rating count in descending order\n",
    "sorted_movies_by_rating_count = filtered_movies.sort_values('rating_count', ascending=False)\n",
    "\n",
    "# Select the top 5 movies based on rating count\n",
    "top_5_popular_movies = sorted_movies_by_rating_count.head(5)\n",
    "\n",
    "print(\"Top 5 popular movies based on number of user ratings:\")\n",
    "print(top_5_popular_movies[['title', 'rating_count']])"
   ]
  },
  {
   "cell_type": "code",
   "execution_count": 26,
   "metadata": {},
   "outputs": [
    {
     "name": "stdout",
     "output_type": "stream",
     "text": [
      "The third most popular Sci-Fi movie based on number of user ratings is: 'Jurassic Park (1993)'\n",
      "Number of user ratings: 238\n"
     ]
    }
   ],
   "source": [
    "# Filter Sci-Fi movies from the filtered movies DataFrame\n",
    "sci_fi_movies = filtered_movies[filtered_movies['genres'].str.contains('Sci-Fi', case=False)]\n",
    "\n",
    "# Sort Sci-Fi movies by rating count in descending order\n",
    "sorted_sci_fi_movies = sci_fi_movies.sort_values('rating_count', ascending=False)\n",
    "\n",
    "# Select the third most popular Sci-Fi movie based on rating count\n",
    "third_most_popular_sci_fi_movie = sorted_sci_fi_movies.iloc[2]  # Index 2 corresponds to the third movie\n",
    "\n",
    "print(f\"The third most popular Sci-Fi movie based on number of user ratings is: '{third_most_popular_sci_fi_movie['title']}'\")\n",
    "print(f\"Number of user ratings: {third_most_popular_sci_fi_movie['rating_count']}\")"
   ]
  },
  {
   "cell_type": "code",
   "execution_count": 28,
   "metadata": {},
   "outputs": [],
   "source": [
    "links_df = pd.read_csv(\"P:\\Artificial Intelligence\\internship code\\datasets\\movie data\\links.csv\")"
   ]
  },
  {
   "cell_type": "code",
   "execution_count": 29,
   "metadata": {},
   "outputs": [
    {
     "data": {
      "text/html": [
       "<div>\n",
       "<style scoped>\n",
       "    .dataframe tbody tr th:only-of-type {\n",
       "        vertical-align: middle;\n",
       "    }\n",
       "\n",
       "    .dataframe tbody tr th {\n",
       "        vertical-align: top;\n",
       "    }\n",
       "\n",
       "    .dataframe thead th {\n",
       "        text-align: right;\n",
       "    }\n",
       "</style>\n",
       "<table border=\"1\" class=\"dataframe\">\n",
       "  <thead>\n",
       "    <tr style=\"text-align: right;\">\n",
       "      <th></th>\n",
       "      <th>movieId</th>\n",
       "      <th>imdbId</th>\n",
       "      <th>tmdbId</th>\n",
       "    </tr>\n",
       "  </thead>\n",
       "  <tbody>\n",
       "    <tr>\n",
       "      <th>0</th>\n",
       "      <td>1</td>\n",
       "      <td>114709</td>\n",
       "      <td>862.0</td>\n",
       "    </tr>\n",
       "    <tr>\n",
       "      <th>1</th>\n",
       "      <td>2</td>\n",
       "      <td>113497</td>\n",
       "      <td>8844.0</td>\n",
       "    </tr>\n",
       "    <tr>\n",
       "      <th>2</th>\n",
       "      <td>3</td>\n",
       "      <td>113228</td>\n",
       "      <td>15602.0</td>\n",
       "    </tr>\n",
       "    <tr>\n",
       "      <th>3</th>\n",
       "      <td>4</td>\n",
       "      <td>114885</td>\n",
       "      <td>31357.0</td>\n",
       "    </tr>\n",
       "    <tr>\n",
       "      <th>4</th>\n",
       "      <td>5</td>\n",
       "      <td>113041</td>\n",
       "      <td>11862.0</td>\n",
       "    </tr>\n",
       "  </tbody>\n",
       "</table>\n",
       "</div>"
      ],
      "text/plain": [
       "   movieId  imdbId   tmdbId\n",
       "0        1  114709    862.0\n",
       "1        2  113497   8844.0\n",
       "2        3  113228  15602.0\n",
       "3        4  114885  31357.0\n",
       "4        5  113041  11862.0"
      ]
     },
     "execution_count": 29,
     "metadata": {},
     "output_type": "execute_result"
    }
   ],
   "source": [
    "links_df.head()\n"
   ]
  },
  {
   "cell_type": "code",
   "execution_count": 32,
   "metadata": {},
   "outputs": [],
   "source": [
    "popular_movies = merged_data[merged_data['rating_count'] > 50]"
   ]
  },
  {
   "cell_type": "code",
   "execution_count": 33,
   "metadata": {},
   "outputs": [
    {
     "data": {
      "text/html": [
       "<div>\n",
       "<style scoped>\n",
       "    .dataframe tbody tr th:only-of-type {\n",
       "        vertical-align: middle;\n",
       "    }\n",
       "\n",
       "    .dataframe tbody tr th {\n",
       "        vertical-align: top;\n",
       "    }\n",
       "\n",
       "    .dataframe thead th {\n",
       "        text-align: right;\n",
       "    }\n",
       "</style>\n",
       "<table border=\"1\" class=\"dataframe\">\n",
       "  <thead>\n",
       "    <tr style=\"text-align: right;\">\n",
       "      <th></th>\n",
       "      <th>movieId</th>\n",
       "      <th>title</th>\n",
       "      <th>genres</th>\n",
       "      <th>rating_count</th>\n",
       "      <th>rating_mean</th>\n",
       "    </tr>\n",
       "  </thead>\n",
       "  <tbody>\n",
       "    <tr>\n",
       "      <th>0</th>\n",
       "      <td>1</td>\n",
       "      <td>Toy Story (1995)</td>\n",
       "      <td>Adventure|Animation|Children|Comedy|Fantasy</td>\n",
       "      <td>215</td>\n",
       "      <td>3.920930</td>\n",
       "    </tr>\n",
       "    <tr>\n",
       "      <th>1</th>\n",
       "      <td>2</td>\n",
       "      <td>Jumanji (1995)</td>\n",
       "      <td>Adventure|Children|Fantasy</td>\n",
       "      <td>110</td>\n",
       "      <td>3.431818</td>\n",
       "    </tr>\n",
       "    <tr>\n",
       "      <th>2</th>\n",
       "      <td>3</td>\n",
       "      <td>Grumpier Old Men (1995)</td>\n",
       "      <td>Comedy|Romance</td>\n",
       "      <td>52</td>\n",
       "      <td>3.259615</td>\n",
       "    </tr>\n",
       "    <tr>\n",
       "      <th>5</th>\n",
       "      <td>6</td>\n",
       "      <td>Heat (1995)</td>\n",
       "      <td>Action|Crime|Thriller</td>\n",
       "      <td>102</td>\n",
       "      <td>3.946078</td>\n",
       "    </tr>\n",
       "    <tr>\n",
       "      <th>6</th>\n",
       "      <td>7</td>\n",
       "      <td>Sabrina (1995)</td>\n",
       "      <td>Comedy|Romance</td>\n",
       "      <td>54</td>\n",
       "      <td>3.185185</td>\n",
       "    </tr>\n",
       "  </tbody>\n",
       "</table>\n",
       "</div>"
      ],
      "text/plain": [
       "   movieId                    title  \\\n",
       "0        1         Toy Story (1995)   \n",
       "1        2           Jumanji (1995)   \n",
       "2        3  Grumpier Old Men (1995)   \n",
       "5        6              Heat (1995)   \n",
       "6        7           Sabrina (1995)   \n",
       "\n",
       "                                        genres  rating_count  rating_mean  \n",
       "0  Adventure|Animation|Children|Comedy|Fantasy           215     3.920930  \n",
       "1                   Adventure|Children|Fantasy           110     3.431818  \n",
       "2                               Comedy|Romance            52     3.259615  \n",
       "5                        Action|Crime|Thriller           102     3.946078  \n",
       "6                               Comedy|Romance            54     3.185185  "
      ]
     },
     "execution_count": 33,
     "metadata": {},
     "output_type": "execute_result"
    }
   ],
   "source": [
    "popular_movies.head()"
   ]
  },
  {
   "cell_type": "code",
   "execution_count": null,
   "metadata": {},
   "outputs": [],
   "source": [
    "import requests\n",
    "from bs4 import BeautifulSoup\n",
    "\n",
    "# Read the links data\n",
    "links_df = pd.read_csv(\"P:\\Artificial Intelligence\\internship code\\datasets\\movie data\\links.csv\")\n",
    "\n",
    "# Filter movies with more than 50 user ratings\n",
    "popular_movies = merged_data[merged_data['rating_count'] > 50]\n",
    "\n",
    "for index, row in filtered_movies.iterrows():\n",
    "    movie_id = row['movieId']\n",
    "    imdb_id = links_df[links_df['movieId'] == movie_id]['imdbId'].values[0]\n",
    "    imdb_url = f\"https://www.imdb.com/title/tt{imdb_id}/reviews\"\n",
    "    \n",
    "    response = requests.get(imdb_url)\n",
    "    if response.status_code == 200:\n",
    "        html_content = response.text\n",
    "        soup = BeautifulSoup(html_content, 'html.parser')\n",
    "        reviews = soup.find_all(class_='text show-more__control')\n",
    "        \n",
    "        print(f\"\\nReviews for movie '{row['title']}' (IMDb ID: {imdb_id}) with more than 50 ratings:\")\n",
    "        for review in reviews[:3]:\n",
    "            print(review.text.strip())"
   ]
  },
  {
   "cell_type": "code",
   "execution_count": 36,
   "metadata": {},
   "outputs": [
    {
     "name": "stdout",
     "output_type": "stream",
     "text": [
      "The movieId of the movie with the highest IMDb rating (0) is: None\n"
     ]
    }
   ],
   "source": [
    "\n",
    "highest_rating = 0\n",
    "highest_rated_movie_id = None\n",
    "\n",
    "for index, row in filtered_movies.iterrows():\n",
    "    movie_id = row['movieId']\n",
    "    imdb_id = links_df[links_df['movieId'] == movie_id]['imdbId'].values[0]\n",
    "    imdb_url = f\"https://www.imdb.com/title/tt{imdb_id}/\"\n",
    "    \n",
    "    response = requests.get(imdb_url)\n",
    "    \n",
    "    if response.status_code == 200:\n",
    "        html_content = response.text\n",
    "        soup = BeautifulSoup(html_content, 'html.parser')\n",
    "        \n",
    "        # Extract IMDb rating\n",
    "        rating_element = soup.find('span', itemprop='ratingValue')\n",
    "        if rating_element:\n",
    "            imdb_rating = float(rating_element.text)\n",
    "            \n",
    "            # Check for the highest rating\n",
    "            if imdb_rating > highest_rating:\n",
    "                highest_rating = imdb_rating\n",
    "                highest_rated_movie_id = movie_id\n",
    "\n",
    "print(f\"The movieId of the movie with the highest IMDb rating ({highest_rating}) is: {highest_rated_movie_id}\")"
   ]
  },
  {
   "cell_type": "code",
   "execution_count": 42,
   "metadata": {},
   "outputs": [],
   "source": [
    "# Step 1: Group user ratings by movieId and aggregate using count and mean\n",
    "grouped_ratings = rating_df.groupby('movieId')['rating'].agg(['count', 'mean']).reset_index()\n",
    "grouped_ratings.columns = ['movieId', 'rating_count', 'rating_mean']\n",
    "\n",
    "# Step 2: Merge aggregated ratings with movies data\n",
    "\n",
    "merged_data = pd.merge(movie_df, grouped_ratings, on='movieId', how='inner')\n",
    "\n",
    "# Step 3: Filter Sci-Fi movies with more than 50 user ratings\n",
    "filtered_scifi_movies = merged_data[(merged_data['rating_count'] > 50) & \n",
    "                                    (merged_data['genres'].str.contains('Sci-Fi', case=False))]"
   ]
  },
  {
   "cell_type": "code",
   "execution_count": 43,
   "metadata": {},
   "outputs": [
    {
     "name": "stdout",
     "output_type": "stream",
     "text": [
      "The movieId of the highest rated Sci-Fi movie (0) is: None\n"
     ]
    }
   ],
   "source": [
    "highest_rating = 0\n",
    "highest_rated_scifi_movie_id = None\n",
    "\n",
    "for index, row in filtered_scifi_movies.iterrows():\n",
    "    movie_id = row['movieId']\n",
    "    imdb_id = links_df[links_df['movieId'] == movie_id]['imdbId'].values[0]\n",
    "    imdb_url = f\"https://www.imdb.com/title/tt{imdb_id}/\"\n",
    "    \n",
    "    response = requests.get(imdb_url)\n",
    "    if response.status_code == 200:\n",
    "        html_content = response.text\n",
    "        soup = BeautifulSoup(html_content, 'html.parser')\n",
    "        \n",
    "        # Extract IMDb rating\n",
    "        rating_element = soup.find('span', itemprop='ratingValue')\n",
    "        if rating_element:\n",
    "            imdb_rating = float(rating_element.text)\n",
    "            \n",
    "            # Check for the highest rating among Sci-Fi movies\n",
    "            if imdb_rating > highest_rating:\n",
    "                highest_rating = imdb_rating\n",
    "                highest_rated_scifi_movie_id = movie_id\n",
    "\n",
    "print(f\"The movieId of the highest rated Sci-Fi movie ({highest_rating}) is: {highest_rated_scifi_movie_id}\")"
   ]
  },
  {
   "cell_type": "code",
   "execution_count": 48,
   "metadata": {},
   "outputs": [
    {
     "name": "stdout",
     "output_type": "stream",
     "text": [
      "      movieId             title  \\\n",
      "7372    79132  Inception (2010)   \n",
      "\n",
      "                                               genres  \n",
      "7372  Action|Crime|Drama|Mystery|Sci-Fi|Thriller|IMAX  \n"
     ]
    }
   ],
   "source": [
    "search_title = \"Inception\"\n",
    "\n",
    "# Filter rows containing the specified movie title\n",
    "result = movie_df[movie_df['title'].str.contains(search_title, case=False)]\n",
    "\n",
    "print(result)"
   ]
  }
 ],
 "metadata": {
  "kernelspec": {
   "display_name": "Python 3",
   "language": "python",
   "name": "python3"
  },
  "language_info": {
   "codemirror_mode": {
    "name": "ipython",
    "version": 3
   },
   "file_extension": ".py",
   "mimetype": "text/x-python",
   "name": "python",
   "nbconvert_exporter": "python",
   "pygments_lexer": "ipython3",
   "version": "3.9.2"
  }
 },
 "nbformat": 4,
 "nbformat_minor": 2
}
